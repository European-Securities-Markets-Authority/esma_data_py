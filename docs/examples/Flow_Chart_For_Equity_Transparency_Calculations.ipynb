{
 "cells": [
  {
   "cell_type": "markdown",
   "metadata": {
    "application/vnd.databricks.v1+cell": {
     "cellMetadata": {},
     "inputWidgets": {},
     "nuid": "adaf96fa-04f3-4a94-bd58-d955adcc819f",
     "showTitle": false,
     "tableResultSettingsMap": {},
     "title": ""
    }
   },
   "source": [
    "Flow Chart For Equity Transparency Calculations"
   ]
  },
  {
   "cell_type": "code",
   "execution_count": 0,
   "metadata": {
    "application/vnd.databricks.v1+cell": {
     "cellMetadata": {
      "byteLimit": 2048000,
      "rowLimit": 10000
     },
     "inputWidgets": {},
     "nuid": "0c53e4ed-e7c9-4e99-82aa-b94aac469d4d",
     "showTitle": false,
     "tableResultSettingsMap": {},
     "title": ""
    }
   },
   "outputs": [
    {
     "output_type": "stream",
     "name": "stdout",
     "output_type": "stream",
     "text": [
      "\u001B[43mNote: you may need to restart the kernel using dbutils.library.restartPython() to use updated packages.\u001B[0m\nCollecting git+https://github.com/hadrilec/esma_data_py.git\n  Cloning https://github.com/hadrilec/esma_data_py.git to /tmp/pip-req-build-s6z8p4du\n  Running command git clone --filter=blob:none --quiet https://github.com/hadrilec/esma_data_py.git /tmp/pip-req-build-s6z8p4du\n  Resolved https://github.com/hadrilec/esma_data_py.git to commit fc1e65e8ddd13a7726ecc45725ca40c3e3e96edc\n  Preparing metadata (setup.py): started\n  Preparing metadata (setup.py): finished with status 'done'\nRequirement already satisfied: pandas>=2.0.0 in /local_disk0/.ephemeral_nfs/cluster_libraries/python/lib/python3.10/site-packages (from esma-data-py==0.0.1) (2.2.3)\nRequirement already satisfied: tqdm>=4.65.0 in /local_disk0/.ephemeral_nfs/cluster_libraries/python/lib/python3.10/site-packages (from esma-data-py==0.0.1) (4.66.4)\nRequirement already satisfied: requests>=2.31.0 in /local_disk0/.ephemeral_nfs/cluster_libraries/python/lib/python3.10/site-packages (from esma-data-py==0.0.1) (2.32.3)\nRequirement already satisfied: python-dateutil>=2.8.2 in /databricks/python3/lib/python3.10/site-packages (from pandas>=2.0.0->esma-data-py==0.0.1) (2.8.2)\nRequirement already satisfied: tzdata>=2022.7 in /local_disk0/.ephemeral_nfs/cluster_libraries/python/lib/python3.10/site-packages (from pandas>=2.0.0->esma-data-py==0.0.1) (2024.2)\nRequirement already satisfied: numpy>=1.22.4 in /databricks/python3/lib/python3.10/site-packages (from pandas>=2.0.0->esma-data-py==0.0.1) (1.23.5)\nRequirement already satisfied: pytz>=2020.1 in /databricks/python3/lib/python3.10/site-packages (from pandas>=2.0.0->esma-data-py==0.0.1) (2022.7)\nRequirement already satisfied: idna<4,>=2.5 in /databricks/python3/lib/python3.10/site-packages (from requests>=2.31.0->esma-data-py==0.0.1) (3.4)\nRequirement already satisfied: certifi>=2017.4.17 in /databricks/python3/lib/python3.10/site-packages (from requests>=2.31.0->esma-data-py==0.0.1) (2022.12.7)\nRequirement already satisfied: urllib3<3,>=1.21.1 in /databricks/python3/lib/python3.10/site-packages (from requests>=2.31.0->esma-data-py==0.0.1) (1.26.14)\nRequirement already satisfied: charset-normalizer<4,>=2 in /databricks/python3/lib/python3.10/site-packages (from requests>=2.31.0->esma-data-py==0.0.1) (2.0.4)\nRequirement already satisfied: six>=1.5 in /usr/lib/python3/dist-packages (from python-dateutil>=2.8.2->pandas>=2.0.0->esma-data-py==0.0.1) (1.16.0)\n\u001B[43mNote: you may need to restart the kernel using dbutils.library.restartPython() to use updated packages.\u001B[0m\n"
     ]
    }
   ],
   "source": [
    "pip install git+https://github.com/hadrilec/esma_data_py.git"
   ]
  },
  {
   "cell_type": "code",
   "execution_count": 0,
   "metadata": {
    "application/vnd.databricks.v1+cell": {
     "cellMetadata": {
      "byteLimit": 2048000,
      "rowLimit": 10000
     },
     "inputWidgets": {},
     "nuid": "bb59db1e-dc41-4758-bf4a-a6b929f81fcb",
     "showTitle": false,
     "tableResultSettingsMap": {},
     "title": ""
    }
   },
   "outputs": [],
   "source": [
    "import esma_data_py as edp"
   ]
  },
  {
   "cell_type": "code",
   "execution_count": 0,
   "metadata": {
    "application/vnd.databricks.v1+cell": {
     "cellMetadata": {
      "byteLimit": 2048000,
      "rowLimit": 10000
     },
     "inputWidgets": {},
     "nuid": "0c29cde3-f6d1-41c5-a031-53ba0a0179e6",
     "showTitle": false,
     "tableResultSettingsMap": {},
     "title": ""
    }
   },
   "outputs": [],
   "source": [
    "from src.repo_utils.utils import append_repo_path\n",
    "append_repo_path(\"REPO_FITRS\")\n",
    "\n",
    "# from src.mifid.utils.bundle_plots_and_send2me import bundle_plots_and_send2me"
   ]
  },
  {
   "cell_type": "code",
   "execution_count": 0,
   "metadata": {
    "application/vnd.databricks.v1+cell": {
     "cellMetadata": {
      "byteLimit": 2048000,
      "rowLimit": 10000
     },
     "inputWidgets": {},
     "nuid": "8dfdb8f7-4b0b-4b53-a1dd-9a4743a12604",
     "showTitle": false,
     "tableResultSettingsMap": {},
     "title": ""
    }
   },
   "outputs": [],
   "source": [
    "from src.mifid.utils.spark_interaction import save_spark_dynamic, save_spark_df\n",
    "\n",
    "import os\n",
    "from pathlib import Path\n",
    "import plotly.express as px\n",
    "import re\n",
    "import plotly.graph_objects as go\n",
    "from matplotlib.colors import to_rgb\n",
    "import pandas as pd"
   ]
  },
  {
   "cell_type": "code",
   "execution_count": 0,
   "metadata": {
    "application/vnd.databricks.v1+cell": {
     "cellMetadata": {
      "byteLimit": 2048000,
      "rowLimit": 10000
     },
     "collapsed": true,
     "inputWidgets": {},
     "nuid": "63a1cae3-8aa4-4fb5-b85d-04b1bae59dc8",
     "showTitle": false,
     "tableResultSettingsMap": {},
     "title": ""
    }
   },
   "outputs": [],
   "source": [
    "def hex_to_rgba(hex_color, alpha=1.0):\n",
    "    hex_color = hex_color.lstrip('#')\n",
    "    r, g, b = tuple(int(hex_color[i:i+2], 16) for i in (0, 2, 4))\n",
    "    return f'rgba({r}, {g}, {b}, {alpha})'\n",
    "\n",
    "def rgb_to_rgba(rgb_color, alpha=1.0):\n",
    "    rgb_color = rgb_color[rgb_color.find('(')+1:rgb_color.find(')')]\n",
    "    r, g, b = map(int, rgb_color.split(','))\n",
    "    return f'rgba({r}, {g}, {b}, {alpha})'\n",
    "\n",
    "def named_to_rgba(named_color, alpha=1.0):    \n",
    "    r, g, b = to_rgb(named_color)\n",
    "    return f'rgba({int(r*255)}, {int(g*255)}, {int(b*255)}, {alpha})'\n",
    "\n",
    "def convert_to_rgba(color, alpha=1.0):\n",
    "    if color.startswith('#'):\n",
    "        return hex_to_rgba(color, alpha)\n",
    "    elif color.startswith('rgb'):\n",
    "        return rgb_to_rgba(color, alpha)\n",
    "    else:\n",
    "        return named_to_rgba(color, alpha)\n",
    "\n",
    "colors = px.colors.qualitative.Set1 + \\\n",
    "  px.colors.qualitative.Set2 + \\\n",
    "  px.colors.qualitative.Set3 + \\\n",
    "  px.colors.qualitative.Pastel1 + \\\n",
    "  px.colors.qualitative.Pastel2 \n",
    "\n",
    "opacity = 0.3\n",
    "rgba_colors = [convert_to_rgba(color, alpha=opacity) for color in colors]\n",
    "\n",
    "def make_sankey_plot(df, id1, id2, value, title='', colors=colors, title_left=\"<b>Year-1<b>\", title_right = \"<b>Year<b>\"):\n",
    "\n",
    "    df = df.drop_duplicates()\n",
    "    \n",
    "    df[id1], df[id2], df[value] = df[id1].astype(str), df[id2].astype(str), df[value].astype(str)\n",
    "\n",
    "    list_list_thrs = list(set(list(df[id1]) + list(df[id2])))\n",
    "    list_list_thrs = sorted([str(s) for s in list_list_thrs])\n",
    "\n",
    "    df_lis_label = (pd.DataFrame({id1: list_list_thrs})\n",
    "                    .sort_values([id1], ascending=True)\n",
    "                    .reset_index(drop=True)\n",
    "                    .assign(id_ = lambda x: x.apply(lambda y: y.name, axis=1))\n",
    "                    .rename(columns = {'id_': id1 + '_id'})\n",
    "                    )\n",
    "\n",
    "    df_lis_fitrs_label = (pd.DataFrame({id2: list_list_thrs})\n",
    "                    .sort_values([id2], ascending=True)\n",
    "                    .reset_index(drop=True)\n",
    "                    .assign(id_ = lambda x: x.apply(lambda y: y.name + len(df_lis_label.index) , axis=1))\n",
    "                    .rename(columns = {'id_': id2 + '_id'})\n",
    "                    )\n",
    "    \n",
    "    while len(colors) < len(list_list_thrs):\n",
    "        colors += colors\n",
    "\n",
    "    opacity = 0.3\n",
    "    rgba_colors = [convert_to_rgba(color, alpha=opacity) for color in colors]\n",
    "        \n",
    "    df_colors = pd.DataFrame({'list_id': list_list_thrs,\n",
    "                        \"color\": colors[:len(list_list_thrs)],\n",
    "                        \"color_light\": rgba_colors[:len(list_list_thrs)]})\n",
    "\n",
    "    df_colors2 = (pd.concat([df_lis_fitrs_label.rename(columns = {id2: 'list_id', id2 + '_id': 'id_'}),\n",
    "                            df_lis_label.rename(columns = {id1: 'list_id', id1 + '_id': 'id_'})])              \n",
    "                .merge(df_colors, on=\"list_id\", how='left')\n",
    "                .sort_values(['id_'], ascending=True)\n",
    "                )\n",
    "    \n",
    "    data = (df[[id1, id2, value]]\n",
    "       .groupby([id1, id2], as_index=False)\n",
    "       .count()\n",
    "       .merge(df_lis_fitrs_label, on=id2, how='left')\n",
    "       .merge(df_lis_label, on=id1, how='left')\n",
    "       .merge(df_colors.rename(columns = {'list_id': id1}), on=id1, how='left')\n",
    "       )\n",
    "    \n",
    "    n_isin_same_bucket = sum(data.query(f\"{id1} == {id2}\")[value]) \n",
    "    n_isin_different_bucket = sum(data[value]) - sum(data.query(f\"{id1} == {id2}\")[value]) \n",
    "    pct_isin_same_bucket = n_isin_same_bucket / sum(data[value]) * 100\n",
    "    pct_isin_different_bucket = n_isin_different_bucket / sum(data[value]) * 100\n",
    "\n",
    "    add_caption = f\"<br>Instruments whose indicator matches : <b>{pct_isin_same_bucket:.1f}%<b> ({n_isin_same_bucket:,.0f})\"\n",
    "    add_caption += f\"<br>Instruments whose indicator changes : <b>{pct_isin_different_bucket:.1f}%<b> ({n_isin_different_bucket:,.0f})\"\n",
    "    add_caption += f\"<br>Total number of instruments: {sum(data[value]):,.0f}\"\n",
    "    data['matching_ratio'] = pct_isin_same_bucket\n",
    "    \n",
    "    title = \"<b>\" + title + \"<b>\"\n",
    "    title += add_caption\n",
    "    \n",
    "    source = list(data[id2 + '_id'])\n",
    "    target = list(data[id1 + '_id'])\n",
    "    values = list(data[value])\n",
    "    color = list(data['color_light'])\n",
    "\n",
    "    fig = go.Figure(data=[go.Sankey(\n",
    "        node = dict(\n",
    "        pad = 15,\n",
    "        thickness = 20,\n",
    "        line = dict(color = \"black\", width = 0.5),\n",
    "        label = list(df_colors2['list_id']),\n",
    "        color = list(df_colors2['color']),\n",
    "        ),\n",
    "        link = dict(\n",
    "        source = source, \n",
    "        target = target, \n",
    "        value = values, \n",
    "        label =  values,\n",
    "        color =  color\n",
    "    ))])\n",
    "\n",
    "    fig = fig.update_layout(\n",
    "        font_size=10,  width=700, height=700, plot_bgcolor='white',\n",
    "        xaxis={\n",
    "        'showgrid': False,\n",
    "        'zeroline': False,\n",
    "        'visible': False, \n",
    "        },\n",
    "        yaxis={\n",
    "        'showgrid': False,\n",
    "        'zeroline': False,\n",
    "        'visible': False,\n",
    "        },\n",
    "        title={\n",
    "            'text' : title,\n",
    "            'y': 0.98\n",
    "        })\n",
    "    \n",
    "    for x_coordinate, column_name in enumerate([title_left, title_right]):\n",
    "        fig = fig.add_annotation(\n",
    "                x=x_coordinate,\n",
    "                y=1.05,\n",
    "                xref=\"x\",\n",
    "                yref=\"paper\",\n",
    "                text=column_name,\n",
    "                showarrow=False,\n",
    "                font=dict(\n",
    "                    size=16,\n",
    "                    ),\n",
    "                align=\"center\",\n",
    "                )\n",
    "\n",
    "    return fig, data"
   ]
  },
  {
   "cell_type": "code",
   "execution_count": 0,
   "metadata": {
    "application/vnd.databricks.v1+cell": {
     "cellMetadata": {
      "byteLimit": 2048000,
      "rowLimit": 10000
     },
     "inputWidgets": {},
     "nuid": "338a194a-da4d-427c-b9da-5dbe188775cc",
     "showTitle": false,
     "tableResultSettingsMap": {},
     "title": ""
    }
   },
   "outputs": [],
   "source": [
    "#\n",
    "# FYI All informations about the data and their classification can be found at the following \n",
    "# https://www.esma.europa.eu/sites/default/files/2023-12/ESMA65-8-5240_FIRDS_Transparency_Download_Instructions.pdf"
   ]
  },
  {
   "cell_type": "code",
   "execution_count": 0,
   "metadata": {
    "application/vnd.databricks.v1+cell": {
     "cellMetadata": {
      "byteLimit": 2048000,
      "rowLimit": 10000
     },
     "inputWidgets": {},
     "nuid": "9fcd19bf-9d15-48f4-9ed2-3559ac32c028",
     "showTitle": false,
     "tableResultSettingsMap": {},
     "title": ""
    }
   },
   "outputs": [
    {
     "output_type": "stream",
     "name": "stdout",
     "output_type": "stream",
     "text": [
      "http://fitrs.esma.europa.eu/fitrs/FULECR_20240302_E_1of1.zip\n"
     ]
    }
   ],
   "source": [
    "files = edp.mifid.get_mifid_file_list()\n",
    "\n",
    "files = files.query(\"instrument_type == 'Equity Instruments'\") \\\n",
    "     .query(\"file_type == 'Full'\") \\\n",
    "     .query(\"file_name.str.contains('_E_')\") \\\n",
    "     .query(\"creation_date >= '2024-03-01'\") \\\n",
    "     .query(\"creation_date <= '2024-03-03'\") \\\n",
    "     .reset_index(drop=True)\n",
    "\n",
    "eqt_esma_file = list(files[\"download_link\"])[0]\n",
    "print(eqt_esma_file)"
   ]
  },
  {
   "cell_type": "code",
   "execution_count": 0,
   "metadata": {
    "application/vnd.databricks.v1+cell": {
     "cellMetadata": {
      "byteLimit": 2048000,
      "rowLimit": 10000
     },
     "inputWidgets": {},
     "nuid": "c9b293b3-dbe8-40bb-a08c-3a776bfa77eb",
     "showTitle": false,
     "tableResultSettingsMap": {},
     "title": ""
    }
   },
   "outputs": [
    {
     "output_type": "stream",
     "name": "stdout",
     "output_type": "stream",
     "text": [
      "1/1 files\n"
     ]
    }
   ],
   "source": [
    "df = edp.download_file(eqt_esma_file)"
   ]
  },
  {
   "cell_type": "code",
   "execution_count": 0,
   "metadata": {
    "application/vnd.databricks.v1+cell": {
     "cellMetadata": {
      "byteLimit": 2048000,
      "rowLimit": 10000
     },
     "inputWidgets": {},
     "nuid": "2292e3fd-7a45-443b-af36-b26f8c2fc503",
     "showTitle": false,
     "tableResultSettingsMap": {},
     "title": ""
    }
   },
   "outputs": [
    {
     "output_type": "execute_result",
     "data": {
      "text/html": [
       "<div>\n",
       "<style scoped>\n",
       "    .dataframe tbody tr th:only-of-type {\n",
       "        vertical-align: middle;\n",
       "    }\n",
       "\n",
       "    .dataframe tbody tr th {\n",
       "        vertical-align: top;\n",
       "    }\n",
       "\n",
       "    .dataframe thead th {\n",
       "        text-align: right;\n",
       "    }\n",
       "</style>\n",
       "<table border=\"1\" class=\"dataframe\">\n",
       "  <thead>\n",
       "    <tr style=\"text-align: right;\">\n",
       "      <th></th>\n",
       "      <th>FrDtToDt_ToDt</th>\n",
       "      <th>FrDtToDt_FrDt</th>\n",
       "      <th>EqtyTrnsprncyData_FinInstrmClssfctn</th>\n",
       "      <th>EqtyTrnsprncyData_Id</th>\n",
       "      <th>RlvntMkt_AvrgDalyNbOfTxs</th>\n",
       "      <th>RlvntMkt_Id</th>\n",
       "      <th>Sttstcs_AvrgDalyNbOfTxs</th>\n",
       "      <th>Sttstcs_LrgInScale</th>\n",
       "      <th>Sttstcs_AvrgDalyTrnvr</th>\n",
       "      <th>EqtyTrnsprncyData_Lqdty</th>\n",
       "      <th>Sttstcs_StdMktSz</th>\n",
       "      <th>Sttstcs_AvrgTxVal</th>\n",
       "    </tr>\n",
       "  </thead>\n",
       "  <tbody>\n",
       "    <tr>\n",
       "      <th>11327</th>\n",
       "      <td>2022-12-31</td>\n",
       "      <td>2022-01-01</td>\n",
       "      <td>SHRS</td>\n",
       "      <td>LU2263803020</td>\n",
       "      <td>0.07393</td>\n",
       "      <td>XGAT</td>\n",
       "      <td>2.19845</td>\n",
       "      <td>15000</td>\n",
       "      <td>5111.86928</td>\n",
       "      <td>false</td>\n",
       "      <td>NaN</td>\n",
       "      <td>NaN</td>\n",
       "    </tr>\n",
       "    <tr>\n",
       "      <th>11328</th>\n",
       "      <td>2023-12-31</td>\n",
       "      <td>2023-01-01</td>\n",
       "      <td>SHRS</td>\n",
       "      <td>NL0010872420</td>\n",
       "      <td>614.176</td>\n",
       "      <td>XNCM</td>\n",
       "      <td>45.49804</td>\n",
       "      <td>15000</td>\n",
       "      <td>39385.45454</td>\n",
       "      <td>false</td>\n",
       "      <td>NaN</td>\n",
       "      <td>NaN</td>\n",
       "    </tr>\n",
       "    <tr>\n",
       "      <th>11329</th>\n",
       "      <td>2022-12-31</td>\n",
       "      <td>2022-01-01</td>\n",
       "      <td>SHRS</td>\n",
       "      <td>NL0010872420</td>\n",
       "      <td>1992.24</td>\n",
       "      <td>XGAT</td>\n",
       "      <td>60.28405</td>\n",
       "      <td>30000</td>\n",
       "      <td>90978.93887</td>\n",
       "      <td>false</td>\n",
       "      <td>NaN</td>\n",
       "      <td>NaN</td>\n",
       "    </tr>\n",
       "    <tr>\n",
       "      <th>11331</th>\n",
       "      <td>2023-12-31</td>\n",
       "      <td>2023-01-01</td>\n",
       "      <td>SHRS</td>\n",
       "      <td>NO0012953720</td>\n",
       "      <td>140.95313</td>\n",
       "      <td>XOAS</td>\n",
       "      <td>147.50782</td>\n",
       "      <td>30000</td>\n",
       "      <td>79195.1991</td>\n",
       "      <td>false</td>\n",
       "      <td>NaN</td>\n",
       "      <td>NaN</td>\n",
       "    </tr>\n",
       "    <tr>\n",
       "      <th>11333</th>\n",
       "      <td>2023-12-31</td>\n",
       "      <td>2023-01-01</td>\n",
       "      <td>SHRS</td>\n",
       "      <td>PR67103X1020</td>\n",
       "      <td>0.01177</td>\n",
       "      <td>FRAB</td>\n",
       "      <td>0.36079</td>\n",
       "      <td>15000</td>\n",
       "      <td>453.44441</td>\n",
       "      <td>false</td>\n",
       "      <td>NaN</td>\n",
       "      <td>NaN</td>\n",
       "    </tr>\n",
       "    <tr>\n",
       "      <th>...</th>\n",
       "      <td>...</td>\n",
       "      <td>...</td>\n",
       "      <td>...</td>\n",
       "      <td>...</td>\n",
       "      <td>...</td>\n",
       "      <td>...</td>\n",
       "      <td>...</td>\n",
       "      <td>...</td>\n",
       "      <td>...</td>\n",
       "      <td>...</td>\n",
       "      <td>...</td>\n",
       "      <td>...</td>\n",
       "    </tr>\n",
       "    <tr>\n",
       "      <th>157455</th>\n",
       "      <td>2023-12-31</td>\n",
       "      <td>2023-01-01</td>\n",
       "      <td>SHRS</td>\n",
       "      <td>US1258968379</td>\n",
       "      <td>0</td>\n",
       "      <td>FRAB</td>\n",
       "      <td>0</td>\n",
       "      <td>15000</td>\n",
       "      <td>0</td>\n",
       "      <td>false</td>\n",
       "      <td>NaN</td>\n",
       "      <td>NaN</td>\n",
       "    </tr>\n",
       "    <tr>\n",
       "      <th>157458</th>\n",
       "      <td>2022-12-31</td>\n",
       "      <td>2022-01-01</td>\n",
       "      <td>SHRS</td>\n",
       "      <td>US72942A1079</td>\n",
       "      <td>0.34631</td>\n",
       "      <td>XGAT</td>\n",
       "      <td>2.40078</td>\n",
       "      <td>15000</td>\n",
       "      <td>3754.12716</td>\n",
       "      <td>false</td>\n",
       "      <td>NaN</td>\n",
       "      <td>NaN</td>\n",
       "    </tr>\n",
       "    <tr>\n",
       "      <th>157459</th>\n",
       "      <td>2023-12-31</td>\n",
       "      <td>2023-01-01</td>\n",
       "      <td>SHRS</td>\n",
       "      <td>US72942A1079</td>\n",
       "      <td>0.27235</td>\n",
       "      <td>HAMN</td>\n",
       "      <td>8.6383</td>\n",
       "      <td>15000</td>\n",
       "      <td>1495.03474</td>\n",
       "      <td>false</td>\n",
       "      <td>NaN</td>\n",
       "      <td>NaN</td>\n",
       "    </tr>\n",
       "    <tr>\n",
       "      <th>157460</th>\n",
       "      <td>2022-12-31</td>\n",
       "      <td>2022-01-01</td>\n",
       "      <td>SHRS</td>\n",
       "      <td>US70465T1079</td>\n",
       "      <td>87.2</td>\n",
       "      <td>XGAT</td>\n",
       "      <td>18.1751</td>\n",
       "      <td>15000</td>\n",
       "      <td>21735.53947</td>\n",
       "      <td>false</td>\n",
       "      <td>NaN</td>\n",
       "      <td>NaN</td>\n",
       "    </tr>\n",
       "    <tr>\n",
       "      <th>157461</th>\n",
       "      <td>2023-12-31</td>\n",
       "      <td>2023-01-01</td>\n",
       "      <td>SHRS</td>\n",
       "      <td>US70465T1079</td>\n",
       "      <td>1950.676</td>\n",
       "      <td>XNAS</td>\n",
       "      <td>18.85318</td>\n",
       "      <td>15000</td>\n",
       "      <td>25598.51033</td>\n",
       "      <td>false</td>\n",
       "      <td>NaN</td>\n",
       "      <td>NaN</td>\n",
       "    </tr>\n",
       "  </tbody>\n",
       "</table>\n",
       "<p>39710 rows × 12 columns</p>\n",
       "</div>"
      ],
      "text/plain": [
       "       FrDtToDt_ToDt FrDtToDt_FrDt  ... Sttstcs_StdMktSz Sttstcs_AvrgTxVal\n",
       "11327     2022-12-31    2022-01-01  ...              NaN               NaN\n",
       "11328     2023-12-31    2023-01-01  ...              NaN               NaN\n",
       "11329     2022-12-31    2022-01-01  ...              NaN               NaN\n",
       "11331     2023-12-31    2023-01-01  ...              NaN               NaN\n",
       "11333     2023-12-31    2023-01-01  ...              NaN               NaN\n",
       "...              ...           ...  ...              ...               ...\n",
       "157455    2023-12-31    2023-01-01  ...              NaN               NaN\n",
       "157458    2022-12-31    2022-01-01  ...              NaN               NaN\n",
       "157459    2023-12-31    2023-01-01  ...              NaN               NaN\n",
       "157460    2022-12-31    2022-01-01  ...              NaN               NaN\n",
       "157461    2023-12-31    2023-01-01  ...              NaN               NaN\n",
       "\n",
       "[39710 rows x 12 columns]"
      ]
     },
     "execution_count": 63,
     "metadata": {},
     "output_type": "execute_result"
    }
   ],
   "source": [
    "### FILTERING ONLY FOR RELEVANT RECORDS AND COLUMN FOR THE RESEARCH ###\n",
    "df = df.query(\"EqtyTrnsprncyData_Mthdlgy == 'YEAR'\").query(\"FrDtToDt_FrDt >= '2022-01-01'\")\n",
    "df = df.iloc[:, 3:16].drop('EqtyTrnsprncyData_TechRcrdId', axis = 1)\n",
    "df"
   ]
  },
  {
   "cell_type": "code",
   "execution_count": 0,
   "metadata": {
    "application/vnd.databricks.v1+cell": {
     "cellMetadata": {
      "byteLimit": 2048000,
      "rowLimit": 10000
     },
     "inputWidgets": {},
     "nuid": "a10b8466-3f67-4d09-a91f-70f4859c11e0",
     "showTitle": false,
     "tableResultSettingsMap": {},
     "title": ""
    }
   },
   "outputs": [],
   "source": [
    "def create_sankey_datasets(df):\n",
    "    sankey_datasets = {}\n",
    "    columns_to_process = [col for col in df.columns if col not in ['FrDtToDt_ToDt', 'FrDtToDt_FrDt', 'EqtyTrnsprncyData_Id']]\n",
    "    df['FrDtToDt_ToDt'] = df['FrDtToDt_ToDt'].astype(str)\n",
    "    \n",
    "    # Split the data into 2022 and 2023 datasets\n",
    "    df_2022 = df[df['FrDtToDt_ToDt'].astype(str).str.startswith('2022')]\n",
    "    df_2023 = df[df['FrDtToDt_ToDt'].astype(str).str.startswith('2023')]\n",
    "    \n",
    "    # Dictionary to store sankey plots\n",
    "    sankey_plots = {}\n",
    "\n",
    "    for column in columns_to_process:\n",
    "        # Create a subset for 2022 and 2023 for the current column\n",
    "        df_2022_subset = df_2022[['EqtyTrnsprncyData_Id', column]].rename(columns={column: 'Year_2022'})\n",
    "        df_2023_subset = df_2023[['EqtyTrnsprncyData_Id', column]].rename(columns={column: 'Year_2023'})\n",
    "        \n",
    "        # Perform an outer join on 'EqtyTrnsprncyData_Id' to align 2022 and 2023 data\n",
    "        merged_df = pd.merge(df_2022_subset, df_2023_subset, on='EqtyTrnsprncyData_Id', how='outer')\n",
    "        merged_df = merged_df.dropna(subset=['Year_2022', 'Year_2023'])\n",
    "        \n",
    "        # Store the resulting DataFrame in the dictionary\n",
    "        sankey_datasets[column] = merged_df\n",
    "\n",
    "        # Plotting the Sankey for this dataset\n",
    "        sankey_plot, sk = make_sankey_plot(df = merged_df, id1 = 'Year_2022', id2='Year_2023', value=\"EqtyTrnsprncyData_Id\", title=f\"Sankey Plot for {column}\", title_left=\"<b>Year 2022<b>\", title_right = \"<b>Year 2023<b>\")\n",
    "\n",
    "        # Store the plot object in the sankey_plots dictionary\n",
    "        sankey_plots[column] = sankey_plot\n",
    "    \n",
    "    return sankey_datasets, sankey_plots\n",
    "\n",
    "sankey_datasets,sankey_plots = create_sankey_datasets(x)"
   ]
  },
  {
   "cell_type": "code",
   "execution_count": 0,
   "metadata": {
    "application/vnd.databricks.v1+cell": {
     "cellMetadata": {
      "byteLimit": 2048000,
      "rowLimit": 10000
     },
     "inputWidgets": {},
     "nuid": "47fa4c8b-ba86-4c46-bb82-fefc2a26aeea",
     "showTitle": false,
     "tableResultSettingsMap": {},
     "title": ""
    }
   },
   "outputs": [
    {
     "output_type": "stream",
     "name": "stdout",
     "output_type": "stream",
     "text": [
      "Display Sankey plot for: RlvntMkt_Id\n"
     ]
    },
    {
     "output_type": "display_data",
     "data": {
      "text/html": [
       "<html>\n",
       "<head><meta charset=\"utf-8\" /></head>\n",
       "<body>\n",
       "    <div>            <script src=\"https://cdnjs.cloudflare.com/ajax/libs/mathjax/2.7.5/MathJax.js?config=TeX-AMS-MML_SVG\"></script><script type=\"text/javascript\">if (window.MathJax && window.MathJax.Hub && window.MathJax.Hub.Config) {window.MathJax.Hub.Config({SVG: {font: \"STIX-Web\"}});}</script>                <script type=\"text/javascript\">window.PlotlyConfig = {MathJaxConfig: 'local'};</script>\n",
       "        <script src=\"https://cdn.plot.ly/plotly-2.12.1.min.js\"></script>                <div id=\"5fde662a-2b89-4e53-b1c1-a0c6d1dc6e41\" class=\"plotly-graph-div\" style=\"height:700px; width:700px;\"></div>            <script type=\"text/javascript\">                                    window.PLOTLYENV=window.PLOTLYENV || {};                                    if (document.getElementById(\"5fde662a-2b89-4e53-b1c1-a0c6d1dc6e41\")) {                    Plotly.newPlot(                        \"5fde662a-2b89-4e53-b1c1-a0c6d1dc6e41\",                        [{\"link\":{\"color\":[\"rgba(228, 26, 28, 0.3)\",\"rgba(228, 26, 28, 0.3)\",\"rgba(55, 126, 184, 0.3)\",\"rgba(77, 175, 74, 0.3)\",\"rgba(152, 78, 163, 0.3)\",\"rgba(152, 78, 163, 0.3)\",\"rgba(255, 255, 51, 0.3)\",\"rgba(166, 86, 40, 0.3)\",\"rgba(166, 86, 40, 0.3)\",\"rgba(166, 86, 40, 0.3)\",\"rgba(166, 86, 40, 0.3)\",\"rgba(166, 86, 40, 0.3)\",\"rgba(166, 86, 40, 0.3)\",\"rgba(166, 86, 40, 0.3)\",\"rgba(166, 86, 40, 0.3)\",\"rgba(166, 86, 40, 0.3)\",\"rgba(166, 86, 40, 0.3)\",\"rgba(166, 86, 40, 0.3)\",\"rgba(166, 86, 40, 0.3)\",\"rgba(166, 86, 40, 0.3)\",\"rgba(166, 86, 40, 0.3)\",\"rgba(166, 86, 40, 0.3)\",\"rgba(166, 86, 40, 0.3)\",\"rgba(153, 153, 153, 0.3)\",\"rgba(102, 194, 165, 0.3)\",\"rgba(102, 194, 165, 0.3)\",\"rgba(102, 194, 165, 0.3)\",\"rgba(102, 194, 165, 0.3)\",\"rgba(252, 141, 98, 0.3)\",\"rgba(252, 141, 98, 0.3)\",\"rgba(252, 141, 98, 0.3)\",\"rgba(252, 141, 98, 0.3)\",\"rgba(252, 141, 98, 0.3)\",\"rgba(252, 141, 98, 0.3)\",\"rgba(252, 141, 98, 0.3)\",\"rgba(252, 141, 98, 0.3)\",\"rgba(252, 141, 98, 0.3)\",\"rgba(252, 141, 98, 0.3)\",\"rgba(141, 160, 203, 0.3)\",\"rgba(141, 160, 203, 0.3)\",\"rgba(141, 160, 203, 0.3)\",\"rgba(141, 160, 203, 0.3)\",\"rgba(141, 160, 203, 0.3)\",\"rgba(141, 160, 203, 0.3)\",\"rgba(141, 160, 203, 0.3)\",\"rgba(141, 160, 203, 0.3)\",\"rgba(141, 160, 203, 0.3)\",\"rgba(141, 160, 203, 0.3)\",\"rgba(141, 160, 203, 0.3)\",\"rgba(231, 138, 195, 0.3)\",\"rgba(231, 138, 195, 0.3)\",\"rgba(231, 138, 195, 0.3)\",\"rgba(231, 138, 195, 0.3)\",\"rgba(231, 138, 195, 0.3)\",\"rgba(231, 138, 195, 0.3)\",\"rgba(231, 138, 195, 0.3)\",\"rgba(231, 138, 195, 0.3)\",\"rgba(231, 138, 195, 0.3)\",\"rgba(166, 216, 84, 0.3)\",\"rgba(255, 217, 47, 0.3)\",\"rgba(255, 217, 47, 0.3)\",\"rgba(229, 196, 148, 0.3)\",\"rgba(229, 196, 148, 0.3)\",\"rgba(179, 179, 179, 0.3)\",\"rgba(179, 179, 179, 0.3)\",\"rgba(141, 211, 199, 0.3)\",\"rgba(141, 211, 199, 0.3)\",\"rgba(255, 255, 179, 0.3)\",\"rgba(255, 255, 179, 0.3)\",\"rgba(255, 255, 179, 0.3)\",\"rgba(255, 255, 179, 0.3)\",\"rgba(255, 255, 179, 0.3)\",\"rgba(255, 255, 179, 0.3)\",\"rgba(255, 255, 179, 0.3)\",\"rgba(255, 255, 179, 0.3)\",\"rgba(255, 255, 179, 0.3)\",\"rgba(190, 186, 218, 0.3)\",\"rgba(251, 128, 114, 0.3)\",\"rgba(251, 128, 114, 0.3)\",\"rgba(251, 128, 114, 0.3)\",\"rgba(128, 177, 211, 0.3)\",\"rgba(128, 177, 211, 0.3)\",\"rgba(128, 177, 211, 0.3)\",\"rgba(253, 180, 98, 0.3)\",\"rgba(179, 222, 105, 0.3)\",\"rgba(179, 222, 105, 0.3)\",\"rgba(179, 222, 105, 0.3)\",\"rgba(252, 205, 229, 0.3)\",\"rgba(252, 205, 229, 0.3)\",\"rgba(217, 217, 217, 0.3)\",\"rgba(188, 128, 189, 0.3)\",\"rgba(204, 235, 197, 0.3)\",\"rgba(204, 235, 197, 0.3)\",\"rgba(204, 235, 197, 0.3)\",\"rgba(204, 235, 197, 0.3)\",\"rgba(204, 235, 197, 0.3)\",\"rgba(204, 235, 197, 0.3)\",\"rgba(255, 237, 111, 0.3)\",\"rgba(255, 237, 111, 0.3)\",\"rgba(255, 237, 111, 0.3)\",\"rgba(255, 237, 111, 0.3)\",\"rgba(255, 237, 111, 0.3)\",\"rgba(255, 237, 111, 0.3)\",\"rgba(255, 237, 111, 0.3)\",\"rgba(251, 180, 174, 0.3)\",\"rgba(251, 180, 174, 0.3)\",\"rgba(251, 180, 174, 0.3)\",\"rgba(251, 180, 174, 0.3)\",\"rgba(251, 180, 174, 0.3)\",\"rgba(251, 180, 174, 0.3)\",\"rgba(251, 180, 174, 0.3)\",\"rgba(251, 180, 174, 0.3)\",\"rgba(251, 180, 174, 0.3)\",\"rgba(251, 180, 174, 0.3)\",\"rgba(251, 180, 174, 0.3)\",\"rgba(251, 180, 174, 0.3)\",\"rgba(251, 180, 174, 0.3)\",\"rgba(251, 180, 174, 0.3)\",\"rgba(251, 180, 174, 0.3)\",\"rgba(251, 180, 174, 0.3)\",\"rgba(251, 180, 174, 0.3)\",\"rgba(251, 180, 174, 0.3)\",\"rgba(251, 180, 174, 0.3)\",\"rgba(251, 180, 174, 0.3)\",\"rgba(251, 180, 174, 0.3)\",\"rgba(251, 180, 174, 0.3)\",\"rgba(251, 180, 174, 0.3)\",\"rgba(251, 180, 174, 0.3)\",\"rgba(251, 180, 174, 0.3)\",\"rgba(251, 180, 174, 0.3)\",\"rgba(251, 180, 174, 0.3)\",\"rgba(251, 180, 174, 0.3)\",\"rgba(251, 180, 174, 0.3)\",\"rgba(251, 180, 174, 0.3)\",\"rgba(251, 180, 174, 0.3)\",\"rgba(251, 180, 174, 0.3)\",\"rgba(251, 180, 174, 0.3)\",\"rgba(251, 180, 174, 0.3)\",\"rgba(251, 180, 174, 0.3)\",\"rgba(251, 180, 174, 0.3)\",\"rgba(251, 180, 174, 0.3)\",\"rgba(251, 180, 174, 0.3)\",\"rgba(251, 180, 174, 0.3)\",\"rgba(204, 235, 197, 0.3)\",\"rgba(222, 203, 228, 0.3)\",\"rgba(254, 217, 166, 0.3)\",\"rgba(254, 217, 166, 0.3)\",\"rgba(255, 255, 204, 0.3)\",\"rgba(255, 255, 204, 0.3)\",\"rgba(255, 255, 204, 0.3)\",\"rgba(255, 255, 204, 0.3)\",\"rgba(255, 255, 204, 0.3)\",\"rgba(229, 216, 189, 0.3)\",\"rgba(229, 216, 189, 0.3)\",\"rgba(229, 216, 189, 0.3)\",\"rgba(229, 216, 189, 0.3)\",\"rgba(229, 216, 189, 0.3)\",\"rgba(229, 216, 189, 0.3)\",\"rgba(229, 216, 189, 0.3)\",\"rgba(229, 216, 189, 0.3)\",\"rgba(229, 216, 189, 0.3)\",\"rgba(229, 216, 189, 0.3)\",\"rgba(229, 216, 189, 0.3)\",\"rgba(229, 216, 189, 0.3)\",\"rgba(229, 216, 189, 0.3)\",\"rgba(229, 216, 189, 0.3)\",\"rgba(229, 216, 189, 0.3)\",\"rgba(229, 216, 189, 0.3)\",\"rgba(229, 216, 189, 0.3)\",\"rgba(229, 216, 189, 0.3)\",\"rgba(229, 216, 189, 0.3)\",\"rgba(229, 216, 189, 0.3)\",\"rgba(229, 216, 189, 0.3)\",\"rgba(229, 216, 189, 0.3)\",\"rgba(253, 218, 236, 0.3)\",\"rgba(242, 242, 242, 0.3)\",\"rgba(242, 242, 242, 0.3)\",\"rgba(179, 226, 205, 0.3)\",\"rgba(253, 205, 172, 0.3)\",\"rgba(253, 205, 172, 0.3)\",\"rgba(203, 213, 232, 0.3)\",\"rgba(203, 213, 232, 0.3)\",\"rgba(203, 213, 232, 0.3)\",\"rgba(203, 213, 232, 0.3)\",\"rgba(203, 213, 232, 0.3)\",\"rgba(203, 213, 232, 0.3)\",\"rgba(244, 202, 228, 0.3)\",\"rgba(230, 245, 201, 0.3)\",\"rgba(230, 245, 201, 0.3)\",\"rgba(230, 245, 201, 0.3)\",\"rgba(230, 245, 201, 0.3)\",\"rgba(255, 242, 174, 0.3)\",\"rgba(241, 226, 204, 0.3)\",\"rgba(241, 226, 204, 0.3)\",\"rgba(241, 226, 204, 0.3)\",\"rgba(241, 226, 204, 0.3)\",\"rgba(241, 226, 204, 0.3)\",\"rgba(241, 226, 204, 0.3)\",\"rgba(241, 226, 204, 0.3)\",\"rgba(241, 226, 204, 0.3)\",\"rgba(241, 226, 204, 0.3)\",\"rgba(241, 226, 204, 0.3)\",\"rgba(241, 226, 204, 0.3)\",\"rgba(241, 226, 204, 0.3)\",\"rgba(241, 226, 204, 0.3)\",\"rgba(241, 226, 204, 0.3)\",\"rgba(204, 204, 204, 0.3)\",\"rgba(204, 204, 204, 0.3)\",\"rgba(204, 204, 204, 0.3)\",\"rgba(204, 204, 204, 0.3)\",\"rgba(204, 204, 204, 0.3)\",\"rgba(204, 204, 204, 0.3)\",\"rgba(204, 204, 204, 0.3)\",\"rgba(204, 204, 204, 0.3)\",\"rgba(204, 204, 204, 0.3)\",\"rgba(204, 204, 204, 0.3)\",\"rgba(204, 204, 204, 0.3)\",\"rgba(204, 204, 204, 0.3)\",\"rgba(55, 126, 184, 0.3)\",\"rgba(55, 126, 184, 0.3)\",\"rgba(77, 175, 74, 0.3)\",\"rgba(152, 78, 163, 0.3)\",\"rgba(255, 127, 0, 0.3)\",\"rgba(255, 127, 0, 0.3)\",\"rgba(255, 127, 0, 0.3)\",\"rgba(255, 127, 0, 0.3)\",\"rgba(255, 127, 0, 0.3)\",\"rgba(255, 127, 0, 0.3)\",\"rgba(255, 127, 0, 0.3)\",\"rgba(255, 127, 0, 0.3)\",\"rgba(255, 127, 0, 0.3)\",\"rgba(255, 127, 0, 0.3)\",\"rgba(255, 255, 51, 0.3)\",\"rgba(166, 86, 40, 0.3)\",\"rgba(166, 86, 40, 0.3)\",\"rgba(247, 129, 191, 0.3)\",\"rgba(153, 153, 153, 0.3)\",\"rgba(153, 153, 153, 0.3)\",\"rgba(153, 153, 153, 0.3)\",\"rgba(153, 153, 153, 0.3)\",\"rgba(102, 194, 165, 0.3)\",\"rgba(102, 194, 165, 0.3)\",\"rgba(102, 194, 165, 0.3)\",\"rgba(102, 194, 165, 0.3)\",\"rgba(102, 194, 165, 0.3)\",\"rgba(141, 160, 203, 0.3)\",\"rgba(141, 160, 203, 0.3)\",\"rgba(141, 160, 203, 0.3)\",\"rgba(141, 160, 203, 0.3)\",\"rgba(141, 160, 203, 0.3)\",\"rgba(141, 160, 203, 0.3)\",\"rgba(141, 160, 203, 0.3)\",\"rgba(166, 216, 84, 0.3)\",\"rgba(166, 216, 84, 0.3)\",\"rgba(166, 216, 84, 0.3)\",\"rgba(166, 216, 84, 0.3)\",\"rgba(255, 217, 47, 0.3)\",\"rgba(229, 196, 148, 0.3)\",\"rgba(179, 179, 179, 0.3)\",\"rgba(141, 211, 199, 0.3)\",\"rgba(141, 211, 199, 0.3)\",\"rgba(255, 255, 179, 0.3)\",\"rgba(190, 186, 218, 0.3)\",\"rgba(190, 186, 218, 0.3)\",\"rgba(251, 128, 114, 0.3)\",\"rgba(251, 128, 114, 0.3)\",\"rgba(253, 180, 98, 0.3)\",\"rgba(253, 180, 98, 0.3)\",\"rgba(179, 222, 105, 0.3)\",\"rgba(179, 222, 105, 0.3)\",\"rgba(252, 205, 229, 0.3)\",\"rgba(252, 205, 229, 0.3)\",\"rgba(217, 217, 217, 0.3)\",\"rgba(217, 217, 217, 0.3)\",\"rgba(188, 128, 189, 0.3)\",\"rgba(188, 128, 189, 0.3)\",\"rgba(188, 128, 189, 0.3)\",\"rgba(188, 128, 189, 0.3)\",\"rgba(188, 128, 189, 0.3)\",\"rgba(188, 128, 189, 0.3)\",\"rgba(188, 128, 189, 0.3)\",\"rgba(204, 235, 197, 0.3)\",\"rgba(204, 235, 197, 0.3)\",\"rgba(204, 235, 197, 0.3)\",\"rgba(204, 235, 197, 0.3)\",\"rgba(204, 235, 197, 0.3)\",\"rgba(204, 235, 197, 0.3)\",\"rgba(204, 235, 197, 0.3)\",\"rgba(204, 235, 197, 0.3)\",\"rgba(204, 235, 197, 0.3)\",\"rgba(255, 237, 111, 0.3)\",\"rgba(255, 237, 111, 0.3)\",\"rgba(179, 205, 227, 0.3)\",\"rgba(179, 205, 227, 0.3)\",\"rgba(179, 205, 227, 0.3)\",\"rgba(179, 205, 227, 0.3)\",\"rgba(179, 205, 227, 0.3)\",\"rgba(179, 205, 227, 0.3)\",\"rgba(179, 205, 227, 0.3)\",\"rgba(179, 205, 227, 0.3)\",\"rgba(179, 205, 227, 0.3)\",\"rgba(179, 205, 227, 0.3)\",\"rgba(179, 205, 227, 0.3)\",\"rgba(179, 205, 227, 0.3)\",\"rgba(179, 205, 227, 0.3)\",\"rgba(179, 205, 227, 0.3)\",\"rgba(179, 205, 227, 0.3)\",\"rgba(179, 205, 227, 0.3)\",\"rgba(179, 205, 227, 0.3)\",\"rgba(179, 205, 227, 0.3)\",\"rgba(179, 205, 227, 0.3)\",\"rgba(179, 205, 227, 0.3)\",\"rgba(179, 205, 227, 0.3)\",\"rgba(179, 205, 227, 0.3)\",\"rgba(179, 205, 227, 0.3)\",\"rgba(179, 205, 227, 0.3)\",\"rgba(179, 205, 227, 0.3)\",\"rgba(179, 205, 227, 0.3)\",\"rgba(179, 205, 227, 0.3)\",\"rgba(179, 205, 227, 0.3)\",\"rgba(179, 205, 227, 0.3)\",\"rgba(179, 205, 227, 0.3)\",\"rgba(179, 205, 227, 0.3)\",\"rgba(179, 205, 227, 0.3)\",\"rgba(179, 205, 227, 0.3)\",\"rgba(179, 205, 227, 0.3)\",\"rgba(179, 205, 227, 0.3)\",\"rgba(179, 205, 227, 0.3)\",\"rgba(204, 235, 197, 0.3)\",\"rgba(204, 235, 197, 0.3)\",\"rgba(254, 217, 166, 0.3)\",\"rgba(255, 255, 204, 0.3)\",\"rgba(255, 255, 204, 0.3)\",\"rgba(229, 216, 189, 0.3)\",\"rgba(253, 218, 236, 0.3)\",\"rgba(242, 242, 242, 0.3)\",\"rgba(179, 226, 205, 0.3)\",\"rgba(203, 213, 232, 0.3)\",\"rgba(203, 213, 232, 0.3)\",\"rgba(244, 202, 228, 0.3)\",\"rgba(244, 202, 228, 0.3)\",\"rgba(230, 245, 201, 0.3)\",\"rgba(241, 226, 204, 0.3)\",\"rgba(241, 226, 204, 0.3)\",\"rgba(241, 226, 204, 0.3)\",\"rgba(241, 226, 204, 0.3)\",\"rgba(204, 204, 204, 0.3)\",\"rgba(204, 204, 204, 0.3)\",\"rgba(77, 175, 74, 0.3)\",\"rgba(77, 175, 74, 0.3)\",\"rgba(152, 78, 163, 0.3)\",\"rgba(152, 78, 163, 0.3)\",\"rgba(166, 86, 40, 0.3)\",\"rgba(102, 194, 165, 0.3)\",\"rgba(102, 194, 165, 0.3)\",\"rgba(252, 141, 98, 0.3)\",\"rgba(252, 141, 98, 0.3)\",\"rgba(252, 141, 98, 0.3)\",\"rgba(141, 160, 203, 0.3)\",\"rgba(141, 160, 203, 0.3)\",\"rgba(141, 160, 203, 0.3)\",\"rgba(141, 160, 203, 0.3)\",\"rgba(141, 160, 203, 0.3)\",\"rgba(141, 160, 203, 0.3)\",\"rgba(141, 160, 203, 0.3)\",\"rgba(141, 160, 203, 0.3)\",\"rgba(141, 160, 203, 0.3)\",\"rgba(141, 160, 203, 0.3)\",\"rgba(141, 160, 203, 0.3)\",\"rgba(141, 160, 203, 0.3)\",\"rgba(231, 138, 195, 0.3)\",\"rgba(231, 138, 195, 0.3)\",\"rgba(231, 138, 195, 0.3)\",\"rgba(231, 138, 195, 0.3)\",\"rgba(231, 138, 195, 0.3)\",\"rgba(231, 138, 195, 0.3)\",\"rgba(231, 138, 195, 0.3)\",\"rgba(231, 138, 195, 0.3)\",\"rgba(166, 216, 84, 0.3)\",\"rgba(255, 217, 47, 0.3)\",\"rgba(255, 217, 47, 0.3)\",\"rgba(255, 217, 47, 0.3)\",\"rgba(229, 196, 148, 0.3)\",\"rgba(179, 179, 179, 0.3)\",\"rgba(179, 179, 179, 0.3)\",\"rgba(141, 211, 199, 0.3)\",\"rgba(255, 255, 179, 0.3)\",\"rgba(255, 255, 179, 0.3)\",\"rgba(255, 255, 179, 0.3)\",\"rgba(251, 128, 114, 0.3)\",\"rgba(251, 128, 114, 0.3)\",\"rgba(251, 128, 114, 0.3)\",\"rgba(251, 128, 114, 0.3)\",\"rgba(251, 128, 114, 0.3)\",\"rgba(251, 128, 114, 0.3)\",\"rgba(128, 177, 211, 0.3)\",\"rgba(128, 177, 211, 0.3)\",\"rgba(128, 177, 211, 0.3)\",\"rgba(128, 177, 211, 0.3)\",\"rgba(128, 177, 211, 0.3)\",\"rgba(128, 177, 211, 0.3)\",\"rgba(128, 177, 211, 0.3)\",\"rgba(128, 177, 211, 0.3)\",\"rgba(128, 177, 211, 0.3)\",\"rgba(128, 177, 211, 0.3)\",\"rgba(128, 177, 211, 0.3)\",\"rgba(128, 177, 211, 0.3)\",\"rgba(128, 177, 211, 0.3)\",\"rgba(128, 177, 211, 0.3)\",\"rgba(128, 177, 211, 0.3)\",\"rgba(128, 177, 211, 0.3)\",\"rgba(128, 177, 211, 0.3)\",\"rgba(128, 177, 211, 0.3)\",\"rgba(128, 177, 211, 0.3)\",\"rgba(128, 177, 211, 0.3)\",\"rgba(128, 177, 211, 0.3)\",\"rgba(128, 177, 211, 0.3)\",\"rgba(128, 177, 211, 0.3)\",\"rgba(128, 177, 211, 0.3)\",\"rgba(128, 177, 211, 0.3)\",\"rgba(179, 222, 105, 0.3)\",\"rgba(217, 217, 217, 0.3)\",\"rgba(255, 237, 111, 0.3)\",\"rgba(255, 237, 111, 0.3)\",\"rgba(251, 180, 174, 0.3)\",\"rgba(179, 205, 227, 0.3)\",\"rgba(204, 235, 197, 0.3)\"],\"label\":[138,1,4,2,239,1,1,429,8,1,1,1,75,1,8,75,5,2,1,6,1,39,1,4,1,5,1,1,2,49,1,14,2,1,1,2,1,2,13,27,8,1,2,1,2,1,1,1,14,1,1,3,1,4,13,2,1,1,19,105,1,12,1,13,1,2,1,1,185,12,3,27,1,3,80,1,2,175,2,3,51,1,1,13,51,1,1,5,3,3,3,2,5,428,1,3,9,27,1,1,1,1,3,1,41,1,1,10,1,2587,2,1,1,216,1,127,168,13,1,14,1,7,1,3,1,144,2,3,1,1,1,1,4,6,1,6,1,9,1,299,5,3,6,9,126,3,1,1,2,67,1,1,1,1,2,1,105,88,11,26,1,2,1,48,3,1,2,12,2,2,3,1,1,37,1,3,1,21,4,4,1,1,1,106,1,8,7,1,225,1,1,2,4,1,38,5,1,114,42,1,1,6,1,1,6,1,1,44,7,30,121,2,4,1,21,4,16,2,2,67,8,1,1,1,21,19,1,1,158,10,22,7,2,1,2,94,1,59,1,1,1,1,15,1,1,1,1,3,139,1,1,1,1,1,148,1,5,1,32,1,119,82,42,1,1,270,1,132,1,49,47,1,15,1,1,2,303,2,19,1,2,1,2,1,1,3,68,9,13,2,28,6,14,3,1,1,1,3,2,148,100,45,44,2,17,563,117,33,13,12,5,2246,98,45,21,83,355,61,9,2,1,1,12,63,2,86,147,109,139,2,22,4,16,37,24,104,24,12,1,1,120,33,2,2,150,3,21,1,369,11,1,12,1,14,1,1,1,204,2,1,5,1,1,3,1,1,545,1,4,2,16,2,1,1,2,1,1,382,13,1,8,2,10,1,13,2,6,165,1,1,5,1,2,1,399,18,4,7,6,345,61,2,66,71,6,1,1,1,1,1,63,1,1,1,2,3,1,1,416,2,20,11,1,393,92,3,61],\"source\":[124,163,125,126,127,159,129,130,134,135,142,152,153,158,159,168,169,174,189,200,227,237,240,132,129,133,152,237,130,134,135,153,159,168,169,174,197,237,135,153,159,166,168,169,200,216,217,230,237,140,165,166,168,181,214,227,228,237,137,138,153,139,183,140,227,142,209,135,142,153,169,174,180,200,209,237,136,144,166,227,145,192,234,146,147,201,227,148,203,149,150,130,136,151,153,227,236,152,158,168,196,199,200,227,130,133,134,135,142,153,154,157,158,159,161,168,169,174,176,180,181,182,183,191,197,200,202,209,210,213,214,216,217,220,221,223,224,227,235,237,240,242,243,155,156,157,197,134,153,158,161,168,127,130,135,142,153,159,168,169,174,182,191,200,202,207,214,216,217,220,223,231,235,237,153,161,240,162,124,163,130,136,153,164,200,226,165,128,166,176,181,167,130,135,153,159,161,168,169,180,197,200,209,223,237,242,135,153,159,168,169,174,180,191,200,220,237,242,151,171,172,173,130,141,142,153,168,169,174,200,227,237,210,168,176,177,168,178,227,244,144,168,179,200,227,130,153,176,181,200,227,228,130,159,183,209,184,185,186,176,187,188,189,227,188,190,136,192,163,193,194,227,195,227,152,158,196,198,200,220,227,136,153,168,174,180,197,200,209,220,198,200,130,131,133,134,135,142,152,153,159,168,169,170,174,180,182,191,196,197,198,200,202,209,216,217,220,221,223,227,228,230,235,237,238,240,242,243,201,227,203,153,204,205,206,207,208,210,244,136,211,212,127,159,214,227,215,227,218,244,151,219,222,225,226,176,192,226,130,142,153,168,169,174,181,200,227,230,237,241,127,159,168,174,176,180,227,228,229,176,230,232,231,230,232,233,151,234,236,128,136,151,174,176,236,130,135,142,152,153,159,167,168,169,174,179,191,195,196,197,200,202,204,209,217,220,221,227,237,240,239,241,153,244,245,246,247],\"target\":[0,0,1,2,3,3,5,6,6,6,6,6,6,6,6,6,6,6,6,6,6,6,6,8,9,9,9,9,10,10,10,10,10,10,10,10,10,10,11,11,11,11,11,11,11,11,11,11,11,12,12,12,12,12,12,12,12,12,13,14,14,15,15,16,16,17,17,18,18,18,18,18,18,18,18,18,19,20,20,20,21,21,21,22,23,23,23,24,24,25,26,27,27,27,27,27,27,28,28,28,28,28,28,28,29,29,29,29,29,29,29,29,29,29,29,29,29,29,29,29,29,29,29,29,29,29,29,29,29,29,29,29,29,29,29,29,29,29,29,29,29,29,29,31,32,33,33,34,34,34,34,34,35,35,35,35,35,35,35,35,35,35,35,35,35,35,35,35,35,35,35,35,35,35,36,37,37,38,39,39,40,40,40,40,40,40,41,42,42,42,42,43,44,44,44,44,44,44,44,44,44,44,44,44,44,44,45,45,45,45,45,45,45,45,45,45,45,45,47,47,48,49,50,50,50,50,50,50,50,50,50,50,51,52,52,53,54,54,54,54,55,55,55,55,55,57,57,57,57,57,57,57,59,59,59,59,60,61,62,63,63,64,65,65,66,66,68,68,69,69,70,70,71,71,72,72,72,72,72,72,72,73,73,73,73,73,73,73,73,73,74,74,76,76,76,76,76,76,76,76,76,76,76,76,76,76,76,76,76,76,76,76,76,76,76,76,76,76,76,76,76,76,76,76,76,76,76,76,77,77,79,80,80,81,82,83,84,86,86,87,87,88,90,90,90,90,91,91,94,94,95,95,98,101,101,102,102,102,103,103,103,103,103,103,103,103,103,103,103,103,104,104,104,104,104,104,104,104,105,106,106,106,107,108,108,109,110,110,110,112,112,112,112,112,112,113,113,113,113,113,113,113,113,113,113,113,113,113,113,113,113,113,113,113,113,113,113,113,113,113,115,117,120,120,121,122,123],\"value\":[138,1,4,2,239,1,1,429,8,1,1,1,75,1,8,75,5,2,1,6,1,39,1,4,1,5,1,1,2,49,1,14,2,1,1,2,1,2,13,27,8,1,2,1,2,1,1,1,14,1,1,3,1,4,13,2,1,1,19,105,1,12,1,13,1,2,1,1,185,12,3,27,1,3,80,1,2,175,2,3,51,1,1,13,51,1,1,5,3,3,3,2,5,428,1,3,9,27,1,1,1,1,3,1,41,1,1,10,1,2587,2,1,1,216,1,127,168,13,1,14,1,7,1,3,1,144,2,3,1,1,1,1,4,6,1,6,1,9,1,299,5,3,6,9,126,3,1,1,2,67,1,1,1,1,2,1,105,88,11,26,1,2,1,48,3,1,2,12,2,2,3,1,1,37,1,3,1,21,4,4,1,1,1,106,1,8,7,1,225,1,1,2,4,1,38,5,1,114,42,1,1,6,1,1,6,1,1,44,7,30,121,2,4,1,21,4,16,2,2,67,8,1,1,1,21,19,1,1,158,10,22,7,2,1,2,94,1,59,1,1,1,1,15,1,1,1,1,3,139,1,1,1,1,1,148,1,5,1,32,1,119,82,42,1,1,270,1,132,1,49,47,1,15,1,1,2,303,2,19,1,2,1,2,1,1,3,68,9,13,2,28,6,14,3,1,1,1,3,2,148,100,45,44,2,17,563,117,33,13,12,5,2246,98,45,21,83,355,61,9,2,1,1,12,63,2,86,147,109,139,2,22,4,16,37,24,104,24,12,1,1,120,33,2,2,150,3,21,1,369,11,1,12,1,14,1,1,1,204,2,1,5,1,1,3,1,1,545,1,4,2,16,2,1,1,2,1,1,382,13,1,8,2,10,1,13,2,6,165,1,1,5,1,2,1,399,18,4,7,6,345,61,2,66,71,6,1,1,1,1,1,63,1,1,1,2,3,1,1,416,2,20,11,1,393,92,3,61]},\"node\":{\"color\":[\"rgb(228,26,28)\",\"rgb(55,126,184)\",\"rgb(77,175,74)\",\"rgb(152,78,163)\",\"rgb(255,127,0)\",\"rgb(255,255,51)\",\"rgb(166,86,40)\",\"rgb(247,129,191)\",\"rgb(153,153,153)\",\"rgb(102,194,165)\",\"rgb(252,141,98)\",\"rgb(141,160,203)\",\"rgb(231,138,195)\",\"rgb(166,216,84)\",\"rgb(255,217,47)\",\"rgb(229,196,148)\",\"rgb(179,179,179)\",\"rgb(141,211,199)\",\"rgb(255,255,179)\",\"rgb(190,186,218)\",\"rgb(251,128,114)\",\"rgb(128,177,211)\",\"rgb(253,180,98)\",\"rgb(179,222,105)\",\"rgb(252,205,229)\",\"rgb(217,217,217)\",\"rgb(188,128,189)\",\"rgb(204,235,197)\",\"rgb(255,237,111)\",\"rgb(251,180,174)\",\"rgb(179,205,227)\",\"rgb(204,235,197)\",\"rgb(222,203,228)\",\"rgb(254,217,166)\",\"rgb(255,255,204)\",\"rgb(229,216,189)\",\"rgb(253,218,236)\",\"rgb(242,242,242)\",\"rgb(179,226,205)\",\"rgb(253,205,172)\",\"rgb(203,213,232)\",\"rgb(244,202,228)\",\"rgb(230,245,201)\",\"rgb(255,242,174)\",\"rgb(241,226,204)\",\"rgb(204,204,204)\",\"rgb(228,26,28)\",\"rgb(55,126,184)\",\"rgb(77,175,74)\",\"rgb(152,78,163)\",\"rgb(255,127,0)\",\"rgb(255,255,51)\",\"rgb(166,86,40)\",\"rgb(247,129,191)\",\"rgb(153,153,153)\",\"rgb(102,194,165)\",\"rgb(252,141,98)\",\"rgb(141,160,203)\",\"rgb(231,138,195)\",\"rgb(166,216,84)\",\"rgb(255,217,47)\",\"rgb(229,196,148)\",\"rgb(179,179,179)\",\"rgb(141,211,199)\",\"rgb(255,255,179)\",\"rgb(190,186,218)\",\"rgb(251,128,114)\",\"rgb(128,177,211)\",\"rgb(253,180,98)\",\"rgb(179,222,105)\",\"rgb(252,205,229)\",\"rgb(217,217,217)\",\"rgb(188,128,189)\",\"rgb(204,235,197)\",\"rgb(255,237,111)\",\"rgb(251,180,174)\",\"rgb(179,205,227)\",\"rgb(204,235,197)\",\"rgb(222,203,228)\",\"rgb(254,217,166)\",\"rgb(255,255,204)\",\"rgb(229,216,189)\",\"rgb(253,218,236)\",\"rgb(242,242,242)\",\"rgb(179,226,205)\",\"rgb(253,205,172)\",\"rgb(203,213,232)\",\"rgb(244,202,228)\",\"rgb(230,245,201)\",\"rgb(255,242,174)\",\"rgb(241,226,204)\",\"rgb(204,204,204)\",\"rgb(228,26,28)\",\"rgb(55,126,184)\",\"rgb(77,175,74)\",\"rgb(152,78,163)\",\"rgb(255,127,0)\",\"rgb(255,255,51)\",\"rgb(166,86,40)\",\"rgb(247,129,191)\",\"rgb(153,153,153)\",\"rgb(102,194,165)\",\"rgb(252,141,98)\",\"rgb(141,160,203)\",\"rgb(231,138,195)\",\"rgb(166,216,84)\",\"rgb(255,217,47)\",\"rgb(229,196,148)\",\"rgb(179,179,179)\",\"rgb(141,211,199)\",\"rgb(255,255,179)\",\"rgb(190,186,218)\",\"rgb(251,128,114)\",\"rgb(128,177,211)\",\"rgb(253,180,98)\",\"rgb(179,222,105)\",\"rgb(252,205,229)\",\"rgb(217,217,217)\",\"rgb(188,128,189)\",\"rgb(204,235,197)\",\"rgb(255,237,111)\",\"rgb(251,180,174)\",\"rgb(179,205,227)\",\"rgb(204,235,197)\",\"rgb(228,26,28)\",\"rgb(55,126,184)\",\"rgb(77,175,74)\",\"rgb(152,78,163)\",\"rgb(255,127,0)\",\"rgb(255,255,51)\",\"rgb(166,86,40)\",\"rgb(247,129,191)\",\"rgb(153,153,153)\",\"rgb(102,194,165)\",\"rgb(252,141,98)\",\"rgb(141,160,203)\",\"rgb(231,138,195)\",\"rgb(166,216,84)\",\"rgb(255,217,47)\",\"rgb(229,196,148)\",\"rgb(179,179,179)\",\"rgb(141,211,199)\",\"rgb(255,255,179)\",\"rgb(190,186,218)\",\"rgb(251,128,114)\",\"rgb(128,177,211)\",\"rgb(253,180,98)\",\"rgb(179,222,105)\",\"rgb(252,205,229)\",\"rgb(217,217,217)\",\"rgb(188,128,189)\",\"rgb(204,235,197)\",\"rgb(255,237,111)\",\"rgb(251,180,174)\",\"rgb(179,205,227)\",\"rgb(204,235,197)\",\"rgb(222,203,228)\",\"rgb(254,217,166)\",\"rgb(255,255,204)\",\"rgb(229,216,189)\",\"rgb(253,218,236)\",\"rgb(242,242,242)\",\"rgb(179,226,205)\",\"rgb(253,205,172)\",\"rgb(203,213,232)\",\"rgb(244,202,228)\",\"rgb(230,245,201)\",\"rgb(255,242,174)\",\"rgb(241,226,204)\",\"rgb(204,204,204)\",\"rgb(228,26,28)\",\"rgb(55,126,184)\",\"rgb(77,175,74)\",\"rgb(152,78,163)\",\"rgb(255,127,0)\",\"rgb(255,255,51)\",\"rgb(166,86,40)\",\"rgb(247,129,191)\",\"rgb(153,153,153)\",\"rgb(102,194,165)\",\"rgb(252,141,98)\",\"rgb(141,160,203)\",\"rgb(231,138,195)\",\"rgb(166,216,84)\",\"rgb(255,217,47)\",\"rgb(229,196,148)\",\"rgb(179,179,179)\",\"rgb(141,211,199)\",\"rgb(255,255,179)\",\"rgb(190,186,218)\",\"rgb(251,128,114)\",\"rgb(128,177,211)\",\"rgb(253,180,98)\",\"rgb(179,222,105)\",\"rgb(252,205,229)\",\"rgb(217,217,217)\",\"rgb(188,128,189)\",\"rgb(204,235,197)\",\"rgb(255,237,111)\",\"rgb(251,180,174)\",\"rgb(179,205,227)\",\"rgb(204,235,197)\",\"rgb(222,203,228)\",\"rgb(254,217,166)\",\"rgb(255,255,204)\",\"rgb(229,216,189)\",\"rgb(253,218,236)\",\"rgb(242,242,242)\",\"rgb(179,226,205)\",\"rgb(253,205,172)\",\"rgb(203,213,232)\",\"rgb(244,202,228)\",\"rgb(230,245,201)\",\"rgb(255,242,174)\",\"rgb(241,226,204)\",\"rgb(204,204,204)\",\"rgb(228,26,28)\",\"rgb(55,126,184)\",\"rgb(77,175,74)\",\"rgb(152,78,163)\",\"rgb(255,127,0)\",\"rgb(255,255,51)\",\"rgb(166,86,40)\",\"rgb(247,129,191)\",\"rgb(153,153,153)\",\"rgb(102,194,165)\",\"rgb(252,141,98)\",\"rgb(141,160,203)\",\"rgb(231,138,195)\",\"rgb(166,216,84)\",\"rgb(255,217,47)\",\"rgb(229,196,148)\",\"rgb(179,179,179)\",\"rgb(141,211,199)\",\"rgb(255,255,179)\",\"rgb(190,186,218)\",\"rgb(251,128,114)\",\"rgb(128,177,211)\",\"rgb(253,180,98)\",\"rgb(179,222,105)\",\"rgb(252,205,229)\",\"rgb(217,217,217)\",\"rgb(188,128,189)\",\"rgb(204,235,197)\",\"rgb(255,237,111)\",\"rgb(251,180,174)\",\"rgb(179,205,227)\",\"rgb(204,235,197)\"],\"label\":[\"ABUL\",\"ALXB\",\"ALXL\",\"ALXP\",\"AQEU\",\"BERA\",\"BERB\",\"BVMF\",\"CPTX\",\"DUSA\",\"DUSB\",\"DUSD\",\"EBLX\",\"EBRA\",\"EMTF\",\"ENAX\",\"ENXL\",\"EQTB\",\"EQTC\",\"ERFQ\",\"EXGM\",\"FNDK\",\"FNEE\",\"FNFI\",\"FNIS\",\"FNLT\",\"FNLV\",\"FNSE\",\"FRAA\",\"FRAB\",\"FRAV\",\"GBUL\",\"GROW\",\"HAMA\",\"HAMB\",\"HAMN\",\"HANA\",\"HANB\",\"HMOD\",\"MBUL\",\"MERK\",\"MLXB\",\"MTAA\",\"MUNA\",\"MUNB\",\"MUND\",\"NEOE\",\"NMTF\",\"NPEX\",\"PROS\",\"TPIR\",\"TQEX\",\"TWEM\",\"VPXB\",\"WBAH\",\"WBDM\",\"XADF\",\"XAMS\",\"XASX\",\"XATH\",\"XBAR\",\"XBIL\",\"XBRA\",\"XBRU\",\"XBSE\",\"XBUD\",\"XCAN\",\"XCNQ\",\"XCSE\",\"XCYS\",\"XECM\",\"XESM\",\"XETA\",\"XETB\",\"XETS\",\"XETU\",\"XGAT\",\"XHEL\",\"XHKG\",\"XICE\",\"XLAT\",\"XLIS\",\"XLIT\",\"XLJM\",\"XLJU\",\"XLON\",\"XLUX\",\"XMAD\",\"XMAL\",\"XMEX\",\"XMLI\",\"XMSM\",\"XNAS\",\"XNCM\",\"XNCO\",\"XNGM\",\"XNGS\",\"XNMS\",\"XNXC\",\"XNYS\",\"XNZE\",\"XOAS\",\"XOSL\",\"XPAC\",\"XPAR\",\"XPRA\",\"XPRM\",\"XRIS\",\"XRMO\",\"XRMZ\",\"XSAT\",\"XSES\",\"XSTO\",\"XSTU\",\"XSWX\",\"XTAL\",\"XTKS\",\"XTND\",\"XTSE\",\"XTSX\",\"XWAR\",\"XZAG\",\"XZAP\",\"ZBUL\",\"ABUL\",\"ALXB\",\"ALXL\",\"ALXP\",\"AQEU\",\"BERA\",\"BERB\",\"BVMF\",\"CPTX\",\"DUSA\",\"DUSB\",\"DUSD\",\"EBLX\",\"EBRA\",\"EMTF\",\"ENAX\",\"ENXL\",\"EQTB\",\"EQTC\",\"ERFQ\",\"EXGM\",\"FNDK\",\"FNEE\",\"FNFI\",\"FNIS\",\"FNLT\",\"FNLV\",\"FNSE\",\"FRAA\",\"FRAB\",\"FRAV\",\"GBUL\",\"GROW\",\"HAMA\",\"HAMB\",\"HAMN\",\"HANA\",\"HANB\",\"HMOD\",\"MBUL\",\"MERK\",\"MLXB\",\"MTAA\",\"MUNA\",\"MUNB\",\"MUND\",\"NEOE\",\"NMTF\",\"NPEX\",\"PROS\",\"TPIR\",\"TQEX\",\"TWEM\",\"VPXB\",\"WBAH\",\"WBDM\",\"XADF\",\"XAMS\",\"XASX\",\"XATH\",\"XBAR\",\"XBIL\",\"XBRA\",\"XBRU\",\"XBSE\",\"XBUD\",\"XCAN\",\"XCNQ\",\"XCSE\",\"XCYS\",\"XECM\",\"XESM\",\"XETA\",\"XETB\",\"XETS\",\"XETU\",\"XGAT\",\"XHEL\",\"XHKG\",\"XICE\",\"XLAT\",\"XLIS\",\"XLIT\",\"XLJM\",\"XLJU\",\"XLON\",\"XLUX\",\"XMAD\",\"XMAL\",\"XMEX\",\"XMLI\",\"XMSM\",\"XNAS\",\"XNCM\",\"XNCO\",\"XNGM\",\"XNGS\",\"XNMS\",\"XNXC\",\"XNYS\",\"XNZE\",\"XOAS\",\"XOSL\",\"XPAC\",\"XPAR\",\"XPRA\",\"XPRM\",\"XRIS\",\"XRMO\",\"XRMZ\",\"XSAT\",\"XSES\",\"XSTO\",\"XSTU\",\"XSWX\",\"XTAL\",\"XTKS\",\"XTND\",\"XTSE\",\"XTSX\",\"XWAR\",\"XZAG\",\"XZAP\",\"ZBUL\"],\"line\":{\"color\":\"black\",\"width\":0.5},\"pad\":15,\"thickness\":20},\"type\":\"sankey\"}],                        {\"template\":{\"data\":{\"histogram2dcontour\":[{\"type\":\"histogram2dcontour\",\"colorbar\":{\"outlinewidth\":0,\"ticks\":\"\"},\"colorscale\":[[0.0,\"#0d0887\"],[0.1111111111111111,\"#46039f\"],[0.2222222222222222,\"#7201a8\"],[0.3333333333333333,\"#9c179e\"],[0.4444444444444444,\"#bd3786\"],[0.5555555555555556,\"#d8576b\"],[0.6666666666666666,\"#ed7953\"],[0.7777777777777778,\"#fb9f3a\"],[0.8888888888888888,\"#fdca26\"],[1.0,\"#f0f921\"]]}],\"choropleth\":[{\"type\":\"choropleth\",\"colorbar\":{\"outlinewidth\":0,\"ticks\":\"\"}}],\"histogram2d\":[{\"type\":\"histogram2d\",\"colorbar\":{\"outlinewidth\":0,\"ticks\":\"\"},\"colorscale\":[[0.0,\"#0d0887\"],[0.1111111111111111,\"#46039f\"],[0.2222222222222222,\"#7201a8\"],[0.3333333333333333,\"#9c179e\"],[0.4444444444444444,\"#bd3786\"],[0.5555555555555556,\"#d8576b\"],[0.6666666666666666,\"#ed7953\"],[0.7777777777777778,\"#fb9f3a\"],[0.8888888888888888,\"#fdca26\"],[1.0,\"#f0f921\"]]}],\"heatmap\":[{\"type\":\"heatmap\",\"colorbar\":{\"outlinewidth\":0,\"ticks\":\"\"},\"colorscale\":[[0.0,\"#0d0887\"],[0.1111111111111111,\"#46039f\"],[0.2222222222222222,\"#7201a8\"],[0.3333333333333333,\"#9c179e\"],[0.4444444444444444,\"#bd3786\"],[0.5555555555555556,\"#d8576b\"],[0.6666666666666666,\"#ed7953\"],[0.7777777777777778,\"#fb9f3a\"],[0.8888888888888888,\"#fdca26\"],[1.0,\"#f0f921\"]]}],\"heatmapgl\":[{\"type\":\"heatmapgl\",\"colorbar\":{\"outlinewidth\":0,\"ticks\":\"\"},\"colorscale\":[[0.0,\"#0d0887\"],[0.1111111111111111,\"#46039f\"],[0.2222222222222222,\"#7201a8\"],[0.3333333333333333,\"#9c179e\"],[0.4444444444444444,\"#bd3786\"],[0.5555555555555556,\"#d8576b\"],[0.6666666666666666,\"#ed7953\"],[0.7777777777777778,\"#fb9f3a\"],[0.8888888888888888,\"#fdca26\"],[1.0,\"#f0f921\"]]}],\"contourcarpet\":[{\"type\":\"contourcarpet\",\"colorbar\":{\"outlinewidth\":0,\"ticks\":\"\"}}],\"contour\":[{\"type\":\"contour\",\"colorbar\":{\"outlinewidth\":0,\"ticks\":\"\"},\"colorscale\":[[0.0,\"#0d0887\"],[0.1111111111111111,\"#46039f\"],[0.2222222222222222,\"#7201a8\"],[0.3333333333333333,\"#9c179e\"],[0.4444444444444444,\"#bd3786\"],[0.5555555555555556,\"#d8576b\"],[0.6666666666666666,\"#ed7953\"],[0.7777777777777778,\"#fb9f3a\"],[0.8888888888888888,\"#fdca26\"],[1.0,\"#f0f921\"]]}],\"surface\":[{\"type\":\"surface\",\"colorbar\":{\"outlinewidth\":0,\"ticks\":\"\"},\"colorscale\":[[0.0,\"#0d0887\"],[0.1111111111111111,\"#46039f\"],[0.2222222222222222,\"#7201a8\"],[0.3333333333333333,\"#9c179e\"],[0.4444444444444444,\"#bd3786\"],[0.5555555555555556,\"#d8576b\"],[0.6666666666666666,\"#ed7953\"],[0.7777777777777778,\"#fb9f3a\"],[0.8888888888888888,\"#fdca26\"],[1.0,\"#f0f921\"]]}],\"mesh3d\":[{\"type\":\"mesh3d\",\"colorbar\":{\"outlinewidth\":0,\"ticks\":\"\"}}],\"scatter\":[{\"fillpattern\":{\"fillmode\":\"overlay\",\"size\":10,\"solidity\":0.2},\"type\":\"scatter\"}],\"parcoords\":[{\"type\":\"parcoords\",\"line\":{\"colorbar\":{\"outlinewidth\":0,\"ticks\":\"\"}}}],\"scatterpolargl\":[{\"type\":\"scatterpolargl\",\"marker\":{\"colorbar\":{\"outlinewidth\":0,\"ticks\":\"\"}}}],\"bar\":[{\"error_x\":{\"color\":\"#2a3f5f\"},\"error_y\":{\"color\":\"#2a3f5f\"},\"marker\":{\"line\":{\"color\":\"#E5ECF6\",\"width\":0.5},\"pattern\":{\"fillmode\":\"overlay\",\"size\":10,\"solidity\":0.2}},\"type\":\"bar\"}],\"scattergeo\":[{\"type\":\"scattergeo\",\"marker\":{\"colorbar\":{\"outlinewidth\":0,\"ticks\":\"\"}}}],\"scatterpolar\":[{\"type\":\"scatterpolar\",\"marker\":{\"colorbar\":{\"outlinewidth\":0,\"ticks\":\"\"}}}],\"histogram\":[{\"marker\":{\"pattern\":{\"fillmode\":\"overlay\",\"size\":10,\"solidity\":0.2}},\"type\":\"histogram\"}],\"scattergl\":[{\"type\":\"scattergl\",\"marker\":{\"colorbar\":{\"outlinewidth\":0,\"ticks\":\"\"}}}],\"scatter3d\":[{\"type\":\"scatter3d\",\"line\":{\"colorbar\":{\"outlinewidth\":0,\"ticks\":\"\"}},\"marker\":{\"colorbar\":{\"outlinewidth\":0,\"ticks\":\"\"}}}],\"scattermapbox\":[{\"type\":\"scattermapbox\",\"marker\":{\"colorbar\":{\"outlinewidth\":0,\"ticks\":\"\"}}}],\"scatterternary\":[{\"type\":\"scatterternary\",\"marker\":{\"colorbar\":{\"outlinewidth\":0,\"ticks\":\"\"}}}],\"scattercarpet\":[{\"type\":\"scattercarpet\",\"marker\":{\"colorbar\":{\"outlinewidth\":0,\"ticks\":\"\"}}}],\"carpet\":[{\"aaxis\":{\"endlinecolor\":\"#2a3f5f\",\"gridcolor\":\"white\",\"linecolor\":\"white\",\"minorgridcolor\":\"white\",\"startlinecolor\":\"#2a3f5f\"},\"baxis\":{\"endlinecolor\":\"#2a3f5f\",\"gridcolor\":\"white\",\"linecolor\":\"white\",\"minorgridcolor\":\"white\",\"startlinecolor\":\"#2a3f5f\"},\"type\":\"carpet\"}],\"table\":[{\"cells\":{\"fill\":{\"color\":\"#EBF0F8\"},\"line\":{\"color\":\"white\"}},\"header\":{\"fill\":{\"color\":\"#C8D4E3\"},\"line\":{\"color\":\"white\"}},\"type\":\"table\"}],\"barpolar\":[{\"marker\":{\"line\":{\"color\":\"#E5ECF6\",\"width\":0.5},\"pattern\":{\"fillmode\":\"overlay\",\"size\":10,\"solidity\":0.2}},\"type\":\"barpolar\"}],\"pie\":[{\"automargin\":true,\"type\":\"pie\"}]},\"layout\":{\"autotypenumbers\":\"strict\",\"colorway\":[\"#636efa\",\"#EF553B\",\"#00cc96\",\"#ab63fa\",\"#FFA15A\",\"#19d3f3\",\"#FF6692\",\"#B6E880\",\"#FF97FF\",\"#FECB52\"],\"font\":{\"color\":\"#2a3f5f\"},\"hovermode\":\"closest\",\"hoverlabel\":{\"align\":\"left\"},\"paper_bgcolor\":\"white\",\"plot_bgcolor\":\"#E5ECF6\",\"polar\":{\"bgcolor\":\"#E5ECF6\",\"angularaxis\":{\"gridcolor\":\"white\",\"linecolor\":\"white\",\"ticks\":\"\"},\"radialaxis\":{\"gridcolor\":\"white\",\"linecolor\":\"white\",\"ticks\":\"\"}},\"ternary\":{\"bgcolor\":\"#E5ECF6\",\"aaxis\":{\"gridcolor\":\"white\",\"linecolor\":\"white\",\"ticks\":\"\"},\"baxis\":{\"gridcolor\":\"white\",\"linecolor\":\"white\",\"ticks\":\"\"},\"caxis\":{\"gridcolor\":\"white\",\"linecolor\":\"white\",\"ticks\":\"\"}},\"coloraxis\":{\"colorbar\":{\"outlinewidth\":0,\"ticks\":\"\"}},\"colorscale\":{\"sequential\":[[0.0,\"#0d0887\"],[0.1111111111111111,\"#46039f\"],[0.2222222222222222,\"#7201a8\"],[0.3333333333333333,\"#9c179e\"],[0.4444444444444444,\"#bd3786\"],[0.5555555555555556,\"#d8576b\"],[0.6666666666666666,\"#ed7953\"],[0.7777777777777778,\"#fb9f3a\"],[0.8888888888888888,\"#fdca26\"],[1.0,\"#f0f921\"]],\"sequentialminus\":[[0.0,\"#0d0887\"],[0.1111111111111111,\"#46039f\"],[0.2222222222222222,\"#7201a8\"],[0.3333333333333333,\"#9c179e\"],[0.4444444444444444,\"#bd3786\"],[0.5555555555555556,\"#d8576b\"],[0.6666666666666666,\"#ed7953\"],[0.7777777777777778,\"#fb9f3a\"],[0.8888888888888888,\"#fdca26\"],[1.0,\"#f0f921\"]],\"diverging\":[[0,\"#8e0152\"],[0.1,\"#c51b7d\"],[0.2,\"#de77ae\"],[0.3,\"#f1b6da\"],[0.4,\"#fde0ef\"],[0.5,\"#f7f7f7\"],[0.6,\"#e6f5d0\"],[0.7,\"#b8e186\"],[0.8,\"#7fbc41\"],[0.9,\"#4d9221\"],[1,\"#276419\"]]},\"xaxis\":{\"gridcolor\":\"white\",\"linecolor\":\"white\",\"ticks\":\"\",\"title\":{\"standoff\":15},\"zerolinecolor\":\"white\",\"automargin\":true,\"zerolinewidth\":2},\"yaxis\":{\"gridcolor\":\"white\",\"linecolor\":\"white\",\"ticks\":\"\",\"title\":{\"standoff\":15},\"zerolinecolor\":\"white\",\"automargin\":true,\"zerolinewidth\":2},\"scene\":{\"xaxis\":{\"backgroundcolor\":\"#E5ECF6\",\"gridcolor\":\"white\",\"linecolor\":\"white\",\"showbackground\":true,\"ticks\":\"\",\"zerolinecolor\":\"white\",\"gridwidth\":2},\"yaxis\":{\"backgroundcolor\":\"#E5ECF6\",\"gridcolor\":\"white\",\"linecolor\":\"white\",\"showbackground\":true,\"ticks\":\"\",\"zerolinecolor\":\"white\",\"gridwidth\":2},\"zaxis\":{\"backgroundcolor\":\"#E5ECF6\",\"gridcolor\":\"white\",\"linecolor\":\"white\",\"showbackground\":true,\"ticks\":\"\",\"zerolinecolor\":\"white\",\"gridwidth\":2}},\"shapedefaults\":{\"line\":{\"color\":\"#2a3f5f\"}},\"annotationdefaults\":{\"arrowcolor\":\"#2a3f5f\",\"arrowhead\":0,\"arrowwidth\":1},\"geo\":{\"bgcolor\":\"white\",\"landcolor\":\"#E5ECF6\",\"subunitcolor\":\"white\",\"showland\":true,\"showlakes\":true,\"lakecolor\":\"white\"},\"title\":{\"x\":0.05},\"mapbox\":{\"style\":\"light\"}}},\"font\":{\"size\":10},\"xaxis\":{\"showgrid\":false,\"zeroline\":false,\"visible\":false},\"yaxis\":{\"showgrid\":false,\"zeroline\":false,\"visible\":false},\"title\":{\"text\":\"<b>Sankey Plot for RlvntMkt_Id<b><br>Instruments whose indicator matches : <b>71.6%<b> (13,422)<br>Instruments whose indicator changes : <b>28.4%<b> (5,314)<br>Total number of instruments: 18,736\",\"y\":0.98},\"width\":700,\"height\":700,\"plot_bgcolor\":\"white\",\"annotations\":[{\"align\":\"center\",\"font\":{\"size\":16},\"showarrow\":false,\"text\":\"<b>Year 2022<b>\",\"x\":0,\"xref\":\"x\",\"y\":1.05,\"yref\":\"paper\"},{\"align\":\"center\",\"font\":{\"size\":16},\"showarrow\":false,\"text\":\"<b>Year 2023<b>\",\"x\":1,\"xref\":\"x\",\"y\":1.05,\"yref\":\"paper\"}]},                        {\"responsive\": true}                    )                };                            </script>        </div>\n",
       "</body>\n",
       "</html>"
      ]
     },
     "metadata": {},
     "output_type": "display_data"
    },
    {
     "output_type": "stream",
     "name": "stdout",
     "output_type": "stream",
     "text": [
      "Display Sankey plot for: Sttstcs_LrgInScale\n"
     ]
    },
    {
     "output_type": "display_data",
     "data": {
      "text/html": [
       "<html>\n",
       "<head><meta charset=\"utf-8\" /></head>\n",
       "<body>\n",
       "    <div>            <script src=\"https://cdnjs.cloudflare.com/ajax/libs/mathjax/2.7.5/MathJax.js?config=TeX-AMS-MML_SVG\"></script><script type=\"text/javascript\">if (window.MathJax && window.MathJax.Hub && window.MathJax.Hub.Config) {window.MathJax.Hub.Config({SVG: {font: \"STIX-Web\"}});}</script>                <script type=\"text/javascript\">window.PlotlyConfig = {MathJaxConfig: 'local'};</script>\n",
       "        <script src=\"https://cdn.plot.ly/plotly-2.12.1.min.js\"></script>                <div id=\"5fb7518c-8899-4bfa-8d44-1cd176e9172f\" class=\"plotly-graph-div\" style=\"height:700px; width:700px;\"></div>            <script type=\"text/javascript\">                                    window.PLOTLYENV=window.PLOTLYENV || {};                                    if (document.getElementById(\"5fb7518c-8899-4bfa-8d44-1cd176e9172f\")) {                    Plotly.newPlot(                        \"5fb7518c-8899-4bfa-8d44-1cd176e9172f\",                        [{\"link\":{\"color\":[\"rgba(228, 26, 28, 0.3)\",\"rgba(228, 26, 28, 0.3)\",\"rgba(228, 26, 28, 0.3)\",\"rgba(228, 26, 28, 0.3)\",\"rgba(228, 26, 28, 0.3)\",\"rgba(228, 26, 28, 0.3)\",\"rgba(55, 126, 184, 0.3)\",\"rgba(55, 126, 184, 0.3)\",\"rgba(55, 126, 184, 0.3)\",\"rgba(55, 126, 184, 0.3)\",\"rgba(55, 126, 184, 0.3)\",\"rgba(55, 126, 184, 0.3)\",\"rgba(77, 175, 74, 0.3)\",\"rgba(77, 175, 74, 0.3)\",\"rgba(77, 175, 74, 0.3)\",\"rgba(77, 175, 74, 0.3)\",\"rgba(77, 175, 74, 0.3)\",\"rgba(77, 175, 74, 0.3)\",\"rgba(77, 175, 74, 0.3)\",\"rgba(152, 78, 163, 0.3)\",\"rgba(152, 78, 163, 0.3)\",\"rgba(152, 78, 163, 0.3)\",\"rgba(152, 78, 163, 0.3)\",\"rgba(152, 78, 163, 0.3)\",\"rgba(255, 127, 0, 0.3)\",\"rgba(255, 127, 0, 0.3)\",\"rgba(255, 127, 0, 0.3)\",\"rgba(255, 127, 0, 0.3)\",\"rgba(255, 127, 0, 0.3)\",\"rgba(255, 127, 0, 0.3)\",\"rgba(255, 127, 0, 0.3)\",\"rgba(255, 127, 0, 0.3)\",\"rgba(255, 255, 51, 0.3)\",\"rgba(255, 255, 51, 0.3)\",\"rgba(255, 255, 51, 0.3)\",\"rgba(255, 255, 51, 0.3)\",\"rgba(255, 255, 51, 0.3)\",\"rgba(166, 86, 40, 0.3)\",\"rgba(166, 86, 40, 0.3)\",\"rgba(166, 86, 40, 0.3)\",\"rgba(166, 86, 40, 0.3)\",\"rgba(166, 86, 40, 0.3)\",\"rgba(166, 86, 40, 0.3)\",\"rgba(247, 129, 191, 0.3)\",\"rgba(247, 129, 191, 0.3)\",\"rgba(247, 129, 191, 0.3)\",\"rgba(247, 129, 191, 0.3)\",\"rgba(247, 129, 191, 0.3)\",\"rgba(247, 129, 191, 0.3)\",\"rgba(153, 153, 153, 0.3)\",\"rgba(153, 153, 153, 0.3)\",\"rgba(153, 153, 153, 0.3)\",\"rgba(153, 153, 153, 0.3)\"],\"label\":[199,36,155,18,4,206,9,12439,5,336,3,238,164,44,673,5,103,78,1,18,546,4,320,236,4,28,119,391,22,4,4,2,1,3,42,94,14,5,1,2,26,70,6,204,337,88,365,1,1027,1,2,21,98],\"source\":[9,10,11,12,13,16,9,10,11,12,13,16,9,10,11,12,13,16,17,9,10,11,12,16,9,10,11,13,14,15,16,17,9,10,13,14,15,10,11,13,14,15,17,9,10,11,12,13,16,10,14,15,17],\"target\":[0,0,0,0,0,0,1,1,1,1,1,1,2,2,2,2,2,2,2,3,3,3,3,3,4,4,4,4,4,4,4,4,5,5,5,5,5,6,6,6,6,6,6,7,7,7,7,7,7,8,8,8,8],\"value\":[199,36,155,18,4,206,9,12439,5,336,3,238,164,44,673,5,103,78,1,18,546,4,320,236,4,28,119,391,22,4,4,2,1,3,42,94,14,5,1,2,26,70,6,204,337,88,365,1,1027,1,2,21,98]},\"node\":{\"color\":[\"rgb(228,26,28)\",\"rgb(55,126,184)\",\"rgb(77,175,74)\",\"rgb(152,78,163)\",\"rgb(255,127,0)\",\"rgb(255,255,51)\",\"rgb(166,86,40)\",\"rgb(247,129,191)\",\"rgb(153,153,153)\",\"rgb(228,26,28)\",\"rgb(55,126,184)\",\"rgb(77,175,74)\",\"rgb(152,78,163)\",\"rgb(255,127,0)\",\"rgb(255,255,51)\",\"rgb(166,86,40)\",\"rgb(247,129,191)\",\"rgb(153,153,153)\"],\"label\":[\"100000\",\"15000\",\"200000\",\"30000\",\"300000\",\"400000\",\"500000\",\"60000\",\"650000\",\"100000\",\"15000\",\"200000\",\"30000\",\"300000\",\"400000\",\"500000\",\"60000\",\"650000\"],\"line\":{\"color\":\"black\",\"width\":0.5},\"pad\":15,\"thickness\":20},\"type\":\"sankey\"}],                        {\"template\":{\"data\":{\"histogram2dcontour\":[{\"type\":\"histogram2dcontour\",\"colorbar\":{\"outlinewidth\":0,\"ticks\":\"\"},\"colorscale\":[[0.0,\"#0d0887\"],[0.1111111111111111,\"#46039f\"],[0.2222222222222222,\"#7201a8\"],[0.3333333333333333,\"#9c179e\"],[0.4444444444444444,\"#bd3786\"],[0.5555555555555556,\"#d8576b\"],[0.6666666666666666,\"#ed7953\"],[0.7777777777777778,\"#fb9f3a\"],[0.8888888888888888,\"#fdca26\"],[1.0,\"#f0f921\"]]}],\"choropleth\":[{\"type\":\"choropleth\",\"colorbar\":{\"outlinewidth\":0,\"ticks\":\"\"}}],\"histogram2d\":[{\"type\":\"histogram2d\",\"colorbar\":{\"outlinewidth\":0,\"ticks\":\"\"},\"colorscale\":[[0.0,\"#0d0887\"],[0.1111111111111111,\"#46039f\"],[0.2222222222222222,\"#7201a8\"],[0.3333333333333333,\"#9c179e\"],[0.4444444444444444,\"#bd3786\"],[0.5555555555555556,\"#d8576b\"],[0.6666666666666666,\"#ed7953\"],[0.7777777777777778,\"#fb9f3a\"],[0.8888888888888888,\"#fdca26\"],[1.0,\"#f0f921\"]]}],\"heatmap\":[{\"type\":\"heatmap\",\"colorbar\":{\"outlinewidth\":0,\"ticks\":\"\"},\"colorscale\":[[0.0,\"#0d0887\"],[0.1111111111111111,\"#46039f\"],[0.2222222222222222,\"#7201a8\"],[0.3333333333333333,\"#9c179e\"],[0.4444444444444444,\"#bd3786\"],[0.5555555555555556,\"#d8576b\"],[0.6666666666666666,\"#ed7953\"],[0.7777777777777778,\"#fb9f3a\"],[0.8888888888888888,\"#fdca26\"],[1.0,\"#f0f921\"]]}],\"heatmapgl\":[{\"type\":\"heatmapgl\",\"colorbar\":{\"outlinewidth\":0,\"ticks\":\"\"},\"colorscale\":[[0.0,\"#0d0887\"],[0.1111111111111111,\"#46039f\"],[0.2222222222222222,\"#7201a8\"],[0.3333333333333333,\"#9c179e\"],[0.4444444444444444,\"#bd3786\"],[0.5555555555555556,\"#d8576b\"],[0.6666666666666666,\"#ed7953\"],[0.7777777777777778,\"#fb9f3a\"],[0.8888888888888888,\"#fdca26\"],[1.0,\"#f0f921\"]]}],\"contourcarpet\":[{\"type\":\"contourcarpet\",\"colorbar\":{\"outlinewidth\":0,\"ticks\":\"\"}}],\"contour\":[{\"type\":\"contour\",\"colorbar\":{\"outlinewidth\":0,\"ticks\":\"\"},\"colorscale\":[[0.0,\"#0d0887\"],[0.1111111111111111,\"#46039f\"],[0.2222222222222222,\"#7201a8\"],[0.3333333333333333,\"#9c179e\"],[0.4444444444444444,\"#bd3786\"],[0.5555555555555556,\"#d8576b\"],[0.6666666666666666,\"#ed7953\"],[0.7777777777777778,\"#fb9f3a\"],[0.8888888888888888,\"#fdca26\"],[1.0,\"#f0f921\"]]}],\"surface\":[{\"type\":\"surface\",\"colorbar\":{\"outlinewidth\":0,\"ticks\":\"\"},\"colorscale\":[[0.0,\"#0d0887\"],[0.1111111111111111,\"#46039f\"],[0.2222222222222222,\"#7201a8\"],[0.3333333333333333,\"#9c179e\"],[0.4444444444444444,\"#bd3786\"],[0.5555555555555556,\"#d8576b\"],[0.6666666666666666,\"#ed7953\"],[0.7777777777777778,\"#fb9f3a\"],[0.8888888888888888,\"#fdca26\"],[1.0,\"#f0f921\"]]}],\"mesh3d\":[{\"type\":\"mesh3d\",\"colorbar\":{\"outlinewidth\":0,\"ticks\":\"\"}}],\"scatter\":[{\"fillpattern\":{\"fillmode\":\"overlay\",\"size\":10,\"solidity\":0.2},\"type\":\"scatter\"}],\"parcoords\":[{\"type\":\"parcoords\",\"line\":{\"colorbar\":{\"outlinewidth\":0,\"ticks\":\"\"}}}],\"scatterpolargl\":[{\"type\":\"scatterpolargl\",\"marker\":{\"colorbar\":{\"outlinewidth\":0,\"ticks\":\"\"}}}],\"bar\":[{\"error_x\":{\"color\":\"#2a3f5f\"},\"error_y\":{\"color\":\"#2a3f5f\"},\"marker\":{\"line\":{\"color\":\"#E5ECF6\",\"width\":0.5},\"pattern\":{\"fillmode\":\"overlay\",\"size\":10,\"solidity\":0.2}},\"type\":\"bar\"}],\"scattergeo\":[{\"type\":\"scattergeo\",\"marker\":{\"colorbar\":{\"outlinewidth\":0,\"ticks\":\"\"}}}],\"scatterpolar\":[{\"type\":\"scatterpolar\",\"marker\":{\"colorbar\":{\"outlinewidth\":0,\"ticks\":\"\"}}}],\"histogram\":[{\"marker\":{\"pattern\":{\"fillmode\":\"overlay\",\"size\":10,\"solidity\":0.2}},\"type\":\"histogram\"}],\"scattergl\":[{\"type\":\"scattergl\",\"marker\":{\"colorbar\":{\"outlinewidth\":0,\"ticks\":\"\"}}}],\"scatter3d\":[{\"type\":\"scatter3d\",\"line\":{\"colorbar\":{\"outlinewidth\":0,\"ticks\":\"\"}},\"marker\":{\"colorbar\":{\"outlinewidth\":0,\"ticks\":\"\"}}}],\"scattermapbox\":[{\"type\":\"scattermapbox\",\"marker\":{\"colorbar\":{\"outlinewidth\":0,\"ticks\":\"\"}}}],\"scatterternary\":[{\"type\":\"scatterternary\",\"marker\":{\"colorbar\":{\"outlinewidth\":0,\"ticks\":\"\"}}}],\"scattercarpet\":[{\"type\":\"scattercarpet\",\"marker\":{\"colorbar\":{\"outlinewidth\":0,\"ticks\":\"\"}}}],\"carpet\":[{\"aaxis\":{\"endlinecolor\":\"#2a3f5f\",\"gridcolor\":\"white\",\"linecolor\":\"white\",\"minorgridcolor\":\"white\",\"startlinecolor\":\"#2a3f5f\"},\"baxis\":{\"endlinecolor\":\"#2a3f5f\",\"gridcolor\":\"white\",\"linecolor\":\"white\",\"minorgridcolor\":\"white\",\"startlinecolor\":\"#2a3f5f\"},\"type\":\"carpet\"}],\"table\":[{\"cells\":{\"fill\":{\"color\":\"#EBF0F8\"},\"line\":{\"color\":\"white\"}},\"header\":{\"fill\":{\"color\":\"#C8D4E3\"},\"line\":{\"color\":\"white\"}},\"type\":\"table\"}],\"barpolar\":[{\"marker\":{\"line\":{\"color\":\"#E5ECF6\",\"width\":0.5},\"pattern\":{\"fillmode\":\"overlay\",\"size\":10,\"solidity\":0.2}},\"type\":\"barpolar\"}],\"pie\":[{\"automargin\":true,\"type\":\"pie\"}]},\"layout\":{\"autotypenumbers\":\"strict\",\"colorway\":[\"#636efa\",\"#EF553B\",\"#00cc96\",\"#ab63fa\",\"#FFA15A\",\"#19d3f3\",\"#FF6692\",\"#B6E880\",\"#FF97FF\",\"#FECB52\"],\"font\":{\"color\":\"#2a3f5f\"},\"hovermode\":\"closest\",\"hoverlabel\":{\"align\":\"left\"},\"paper_bgcolor\":\"white\",\"plot_bgcolor\":\"#E5ECF6\",\"polar\":{\"bgcolor\":\"#E5ECF6\",\"angularaxis\":{\"gridcolor\":\"white\",\"linecolor\":\"white\",\"ticks\":\"\"},\"radialaxis\":{\"gridcolor\":\"white\",\"linecolor\":\"white\",\"ticks\":\"\"}},\"ternary\":{\"bgcolor\":\"#E5ECF6\",\"aaxis\":{\"gridcolor\":\"white\",\"linecolor\":\"white\",\"ticks\":\"\"},\"baxis\":{\"gridcolor\":\"white\",\"linecolor\":\"white\",\"ticks\":\"\"},\"caxis\":{\"gridcolor\":\"white\",\"linecolor\":\"white\",\"ticks\":\"\"}},\"coloraxis\":{\"colorbar\":{\"outlinewidth\":0,\"ticks\":\"\"}},\"colorscale\":{\"sequential\":[[0.0,\"#0d0887\"],[0.1111111111111111,\"#46039f\"],[0.2222222222222222,\"#7201a8\"],[0.3333333333333333,\"#9c179e\"],[0.4444444444444444,\"#bd3786\"],[0.5555555555555556,\"#d8576b\"],[0.6666666666666666,\"#ed7953\"],[0.7777777777777778,\"#fb9f3a\"],[0.8888888888888888,\"#fdca26\"],[1.0,\"#f0f921\"]],\"sequentialminus\":[[0.0,\"#0d0887\"],[0.1111111111111111,\"#46039f\"],[0.2222222222222222,\"#7201a8\"],[0.3333333333333333,\"#9c179e\"],[0.4444444444444444,\"#bd3786\"],[0.5555555555555556,\"#d8576b\"],[0.6666666666666666,\"#ed7953\"],[0.7777777777777778,\"#fb9f3a\"],[0.8888888888888888,\"#fdca26\"],[1.0,\"#f0f921\"]],\"diverging\":[[0,\"#8e0152\"],[0.1,\"#c51b7d\"],[0.2,\"#de77ae\"],[0.3,\"#f1b6da\"],[0.4,\"#fde0ef\"],[0.5,\"#f7f7f7\"],[0.6,\"#e6f5d0\"],[0.7,\"#b8e186\"],[0.8,\"#7fbc41\"],[0.9,\"#4d9221\"],[1,\"#276419\"]]},\"xaxis\":{\"gridcolor\":\"white\",\"linecolor\":\"white\",\"ticks\":\"\",\"title\":{\"standoff\":15},\"zerolinecolor\":\"white\",\"automargin\":true,\"zerolinewidth\":2},\"yaxis\":{\"gridcolor\":\"white\",\"linecolor\":\"white\",\"ticks\":\"\",\"title\":{\"standoff\":15},\"zerolinecolor\":\"white\",\"automargin\":true,\"zerolinewidth\":2},\"scene\":{\"xaxis\":{\"backgroundcolor\":\"#E5ECF6\",\"gridcolor\":\"white\",\"linecolor\":\"white\",\"showbackground\":true,\"ticks\":\"\",\"zerolinecolor\":\"white\",\"gridwidth\":2},\"yaxis\":{\"backgroundcolor\":\"#E5ECF6\",\"gridcolor\":\"white\",\"linecolor\":\"white\",\"showbackground\":true,\"ticks\":\"\",\"zerolinecolor\":\"white\",\"gridwidth\":2},\"zaxis\":{\"backgroundcolor\":\"#E5ECF6\",\"gridcolor\":\"white\",\"linecolor\":\"white\",\"showbackground\":true,\"ticks\":\"\",\"zerolinecolor\":\"white\",\"gridwidth\":2}},\"shapedefaults\":{\"line\":{\"color\":\"#2a3f5f\"}},\"annotationdefaults\":{\"arrowcolor\":\"#2a3f5f\",\"arrowhead\":0,\"arrowwidth\":1},\"geo\":{\"bgcolor\":\"white\",\"landcolor\":\"#E5ECF6\",\"subunitcolor\":\"white\",\"showland\":true,\"showlakes\":true,\"lakecolor\":\"white\"},\"title\":{\"x\":0.05},\"mapbox\":{\"style\":\"light\"}}},\"font\":{\"size\":10},\"xaxis\":{\"showgrid\":false,\"zeroline\":false,\"visible\":false},\"yaxis\":{\"showgrid\":false,\"zeroline\":false,\"visible\":false},\"title\":{\"text\":\"<b>Sankey Plot for Sttstcs_LrgInScale<b><br>Instruments whose indicator matches : <b>81.3%<b> (15,311)<br>Instruments whose indicator changes : <b>18.7%<b> (3,511)<br>Total number of instruments: 18,822\",\"y\":0.98},\"width\":700,\"height\":700,\"plot_bgcolor\":\"white\",\"annotations\":[{\"align\":\"center\",\"font\":{\"size\":16},\"showarrow\":false,\"text\":\"<b>Year 2022<b>\",\"x\":0,\"xref\":\"x\",\"y\":1.05,\"yref\":\"paper\"},{\"align\":\"center\",\"font\":{\"size\":16},\"showarrow\":false,\"text\":\"<b>Year 2023<b>\",\"x\":1,\"xref\":\"x\",\"y\":1.05,\"yref\":\"paper\"}]},                        {\"responsive\": true}                    )                };                            </script>        </div>\n",
       "</body>\n",
       "</html>"
      ]
     },
     "metadata": {},
     "output_type": "display_data"
    },
    {
     "output_type": "stream",
     "name": "stdout",
     "output_type": "stream",
     "text": [
      "Display Sankey plot for: EqtyTrnsprncyData_Lqdty\n"
     ]
    },
    {
     "output_type": "display_data",
     "data": {
      "text/html": [
       "<html>\n",
       "<head><meta charset=\"utf-8\" /></head>\n",
       "<body>\n",
       "    <div>            <script src=\"https://cdnjs.cloudflare.com/ajax/libs/mathjax/2.7.5/MathJax.js?config=TeX-AMS-MML_SVG\"></script><script type=\"text/javascript\">if (window.MathJax && window.MathJax.Hub && window.MathJax.Hub.Config) {window.MathJax.Hub.Config({SVG: {font: \"STIX-Web\"}});}</script>                <script type=\"text/javascript\">window.PlotlyConfig = {MathJaxConfig: 'local'};</script>\n",
       "        <script src=\"https://cdn.plot.ly/plotly-2.12.1.min.js\"></script>                <div id=\"37431641-7d1e-4351-a6d8-f21ef6b79286\" class=\"plotly-graph-div\" style=\"height:700px; width:700px;\"></div>            <script type=\"text/javascript\">                                    window.PLOTLYENV=window.PLOTLYENV || {};                                    if (document.getElementById(\"37431641-7d1e-4351-a6d8-f21ef6b79286\")) {                    Plotly.newPlot(                        \"37431641-7d1e-4351-a6d8-f21ef6b79286\",                        [{\"link\":{\"color\":[\"rgba(228, 26, 28, 0.3)\",\"rgba(228, 26, 28, 0.3)\",\"rgba(55, 126, 184, 0.3)\",\"rgba(55, 126, 184, 0.3)\"],\"label\":[17489,137,155,1041],\"source\":[2,3,2,3],\"target\":[0,0,1,1],\"value\":[17489,137,155,1041]},\"node\":{\"color\":[\"rgb(228,26,28)\",\"rgb(55,126,184)\",\"rgb(228,26,28)\",\"rgb(55,126,184)\"],\"label\":[\"false\",\"true\",\"false\",\"true\"],\"line\":{\"color\":\"black\",\"width\":0.5},\"pad\":15,\"thickness\":20},\"type\":\"sankey\"}],                        {\"template\":{\"data\":{\"histogram2dcontour\":[{\"type\":\"histogram2dcontour\",\"colorbar\":{\"outlinewidth\":0,\"ticks\":\"\"},\"colorscale\":[[0.0,\"#0d0887\"],[0.1111111111111111,\"#46039f\"],[0.2222222222222222,\"#7201a8\"],[0.3333333333333333,\"#9c179e\"],[0.4444444444444444,\"#bd3786\"],[0.5555555555555556,\"#d8576b\"],[0.6666666666666666,\"#ed7953\"],[0.7777777777777778,\"#fb9f3a\"],[0.8888888888888888,\"#fdca26\"],[1.0,\"#f0f921\"]]}],\"choropleth\":[{\"type\":\"choropleth\",\"colorbar\":{\"outlinewidth\":0,\"ticks\":\"\"}}],\"histogram2d\":[{\"type\":\"histogram2d\",\"colorbar\":{\"outlinewidth\":0,\"ticks\":\"\"},\"colorscale\":[[0.0,\"#0d0887\"],[0.1111111111111111,\"#46039f\"],[0.2222222222222222,\"#7201a8\"],[0.3333333333333333,\"#9c179e\"],[0.4444444444444444,\"#bd3786\"],[0.5555555555555556,\"#d8576b\"],[0.6666666666666666,\"#ed7953\"],[0.7777777777777778,\"#fb9f3a\"],[0.8888888888888888,\"#fdca26\"],[1.0,\"#f0f921\"]]}],\"heatmap\":[{\"type\":\"heatmap\",\"colorbar\":{\"outlinewidth\":0,\"ticks\":\"\"},\"colorscale\":[[0.0,\"#0d0887\"],[0.1111111111111111,\"#46039f\"],[0.2222222222222222,\"#7201a8\"],[0.3333333333333333,\"#9c179e\"],[0.4444444444444444,\"#bd3786\"],[0.5555555555555556,\"#d8576b\"],[0.6666666666666666,\"#ed7953\"],[0.7777777777777778,\"#fb9f3a\"],[0.8888888888888888,\"#fdca26\"],[1.0,\"#f0f921\"]]}],\"heatmapgl\":[{\"type\":\"heatmapgl\",\"colorbar\":{\"outlinewidth\":0,\"ticks\":\"\"},\"colorscale\":[[0.0,\"#0d0887\"],[0.1111111111111111,\"#46039f\"],[0.2222222222222222,\"#7201a8\"],[0.3333333333333333,\"#9c179e\"],[0.4444444444444444,\"#bd3786\"],[0.5555555555555556,\"#d8576b\"],[0.6666666666666666,\"#ed7953\"],[0.7777777777777778,\"#fb9f3a\"],[0.8888888888888888,\"#fdca26\"],[1.0,\"#f0f921\"]]}],\"contourcarpet\":[{\"type\":\"contourcarpet\",\"colorbar\":{\"outlinewidth\":0,\"ticks\":\"\"}}],\"contour\":[{\"type\":\"contour\",\"colorbar\":{\"outlinewidth\":0,\"ticks\":\"\"},\"colorscale\":[[0.0,\"#0d0887\"],[0.1111111111111111,\"#46039f\"],[0.2222222222222222,\"#7201a8\"],[0.3333333333333333,\"#9c179e\"],[0.4444444444444444,\"#bd3786\"],[0.5555555555555556,\"#d8576b\"],[0.6666666666666666,\"#ed7953\"],[0.7777777777777778,\"#fb9f3a\"],[0.8888888888888888,\"#fdca26\"],[1.0,\"#f0f921\"]]}],\"surface\":[{\"type\":\"surface\",\"colorbar\":{\"outlinewidth\":0,\"ticks\":\"\"},\"colorscale\":[[0.0,\"#0d0887\"],[0.1111111111111111,\"#46039f\"],[0.2222222222222222,\"#7201a8\"],[0.3333333333333333,\"#9c179e\"],[0.4444444444444444,\"#bd3786\"],[0.5555555555555556,\"#d8576b\"],[0.6666666666666666,\"#ed7953\"],[0.7777777777777778,\"#fb9f3a\"],[0.8888888888888888,\"#fdca26\"],[1.0,\"#f0f921\"]]}],\"mesh3d\":[{\"type\":\"mesh3d\",\"colorbar\":{\"outlinewidth\":0,\"ticks\":\"\"}}],\"scatter\":[{\"fillpattern\":{\"fillmode\":\"overlay\",\"size\":10,\"solidity\":0.2},\"type\":\"scatter\"}],\"parcoords\":[{\"type\":\"parcoords\",\"line\":{\"colorbar\":{\"outlinewidth\":0,\"ticks\":\"\"}}}],\"scatterpolargl\":[{\"type\":\"scatterpolargl\",\"marker\":{\"colorbar\":{\"outlinewidth\":0,\"ticks\":\"\"}}}],\"bar\":[{\"error_x\":{\"color\":\"#2a3f5f\"},\"error_y\":{\"color\":\"#2a3f5f\"},\"marker\":{\"line\":{\"color\":\"#E5ECF6\",\"width\":0.5},\"pattern\":{\"fillmode\":\"overlay\",\"size\":10,\"solidity\":0.2}},\"type\":\"bar\"}],\"scattergeo\":[{\"type\":\"scattergeo\",\"marker\":{\"colorbar\":{\"outlinewidth\":0,\"ticks\":\"\"}}}],\"scatterpolar\":[{\"type\":\"scatterpolar\",\"marker\":{\"colorbar\":{\"outlinewidth\":0,\"ticks\":\"\"}}}],\"histogram\":[{\"marker\":{\"pattern\":{\"fillmode\":\"overlay\",\"size\":10,\"solidity\":0.2}},\"type\":\"histogram\"}],\"scattergl\":[{\"type\":\"scattergl\",\"marker\":{\"colorbar\":{\"outlinewidth\":0,\"ticks\":\"\"}}}],\"scatter3d\":[{\"type\":\"scatter3d\",\"line\":{\"colorbar\":{\"outlinewidth\":0,\"ticks\":\"\"}},\"marker\":{\"colorbar\":{\"outlinewidth\":0,\"ticks\":\"\"}}}],\"scattermapbox\":[{\"type\":\"scattermapbox\",\"marker\":{\"colorbar\":{\"outlinewidth\":0,\"ticks\":\"\"}}}],\"scatterternary\":[{\"type\":\"scatterternary\",\"marker\":{\"colorbar\":{\"outlinewidth\":0,\"ticks\":\"\"}}}],\"scattercarpet\":[{\"type\":\"scattercarpet\",\"marker\":{\"colorbar\":{\"outlinewidth\":0,\"ticks\":\"\"}}}],\"carpet\":[{\"aaxis\":{\"endlinecolor\":\"#2a3f5f\",\"gridcolor\":\"white\",\"linecolor\":\"white\",\"minorgridcolor\":\"white\",\"startlinecolor\":\"#2a3f5f\"},\"baxis\":{\"endlinecolor\":\"#2a3f5f\",\"gridcolor\":\"white\",\"linecolor\":\"white\",\"minorgridcolor\":\"white\",\"startlinecolor\":\"#2a3f5f\"},\"type\":\"carpet\"}],\"table\":[{\"cells\":{\"fill\":{\"color\":\"#EBF0F8\"},\"line\":{\"color\":\"white\"}},\"header\":{\"fill\":{\"color\":\"#C8D4E3\"},\"line\":{\"color\":\"white\"}},\"type\":\"table\"}],\"barpolar\":[{\"marker\":{\"line\":{\"color\":\"#E5ECF6\",\"width\":0.5},\"pattern\":{\"fillmode\":\"overlay\",\"size\":10,\"solidity\":0.2}},\"type\":\"barpolar\"}],\"pie\":[{\"automargin\":true,\"type\":\"pie\"}]},\"layout\":{\"autotypenumbers\":\"strict\",\"colorway\":[\"#636efa\",\"#EF553B\",\"#00cc96\",\"#ab63fa\",\"#FFA15A\",\"#19d3f3\",\"#FF6692\",\"#B6E880\",\"#FF97FF\",\"#FECB52\"],\"font\":{\"color\":\"#2a3f5f\"},\"hovermode\":\"closest\",\"hoverlabel\":{\"align\":\"left\"},\"paper_bgcolor\":\"white\",\"plot_bgcolor\":\"#E5ECF6\",\"polar\":{\"bgcolor\":\"#E5ECF6\",\"angularaxis\":{\"gridcolor\":\"white\",\"linecolor\":\"white\",\"ticks\":\"\"},\"radialaxis\":{\"gridcolor\":\"white\",\"linecolor\":\"white\",\"ticks\":\"\"}},\"ternary\":{\"bgcolor\":\"#E5ECF6\",\"aaxis\":{\"gridcolor\":\"white\",\"linecolor\":\"white\",\"ticks\":\"\"},\"baxis\":{\"gridcolor\":\"white\",\"linecolor\":\"white\",\"ticks\":\"\"},\"caxis\":{\"gridcolor\":\"white\",\"linecolor\":\"white\",\"ticks\":\"\"}},\"coloraxis\":{\"colorbar\":{\"outlinewidth\":0,\"ticks\":\"\"}},\"colorscale\":{\"sequential\":[[0.0,\"#0d0887\"],[0.1111111111111111,\"#46039f\"],[0.2222222222222222,\"#7201a8\"],[0.3333333333333333,\"#9c179e\"],[0.4444444444444444,\"#bd3786\"],[0.5555555555555556,\"#d8576b\"],[0.6666666666666666,\"#ed7953\"],[0.7777777777777778,\"#fb9f3a\"],[0.8888888888888888,\"#fdca26\"],[1.0,\"#f0f921\"]],\"sequentialminus\":[[0.0,\"#0d0887\"],[0.1111111111111111,\"#46039f\"],[0.2222222222222222,\"#7201a8\"],[0.3333333333333333,\"#9c179e\"],[0.4444444444444444,\"#bd3786\"],[0.5555555555555556,\"#d8576b\"],[0.6666666666666666,\"#ed7953\"],[0.7777777777777778,\"#fb9f3a\"],[0.8888888888888888,\"#fdca26\"],[1.0,\"#f0f921\"]],\"diverging\":[[0,\"#8e0152\"],[0.1,\"#c51b7d\"],[0.2,\"#de77ae\"],[0.3,\"#f1b6da\"],[0.4,\"#fde0ef\"],[0.5,\"#f7f7f7\"],[0.6,\"#e6f5d0\"],[0.7,\"#b8e186\"],[0.8,\"#7fbc41\"],[0.9,\"#4d9221\"],[1,\"#276419\"]]},\"xaxis\":{\"gridcolor\":\"white\",\"linecolor\":\"white\",\"ticks\":\"\",\"title\":{\"standoff\":15},\"zerolinecolor\":\"white\",\"automargin\":true,\"zerolinewidth\":2},\"yaxis\":{\"gridcolor\":\"white\",\"linecolor\":\"white\",\"ticks\":\"\",\"title\":{\"standoff\":15},\"zerolinecolor\":\"white\",\"automargin\":true,\"zerolinewidth\":2},\"scene\":{\"xaxis\":{\"backgroundcolor\":\"#E5ECF6\",\"gridcolor\":\"white\",\"linecolor\":\"white\",\"showbackground\":true,\"ticks\":\"\",\"zerolinecolor\":\"white\",\"gridwidth\":2},\"yaxis\":{\"backgroundcolor\":\"#E5ECF6\",\"gridcolor\":\"white\",\"linecolor\":\"white\",\"showbackground\":true,\"ticks\":\"\",\"zerolinecolor\":\"white\",\"gridwidth\":2},\"zaxis\":{\"backgroundcolor\":\"#E5ECF6\",\"gridcolor\":\"white\",\"linecolor\":\"white\",\"showbackground\":true,\"ticks\":\"\",\"zerolinecolor\":\"white\",\"gridwidth\":2}},\"shapedefaults\":{\"line\":{\"color\":\"#2a3f5f\"}},\"annotationdefaults\":{\"arrowcolor\":\"#2a3f5f\",\"arrowhead\":0,\"arrowwidth\":1},\"geo\":{\"bgcolor\":\"white\",\"landcolor\":\"#E5ECF6\",\"subunitcolor\":\"white\",\"showland\":true,\"showlakes\":true,\"lakecolor\":\"white\"},\"title\":{\"x\":0.05},\"mapbox\":{\"style\":\"light\"}}},\"font\":{\"size\":10},\"xaxis\":{\"showgrid\":false,\"zeroline\":false,\"visible\":false},\"yaxis\":{\"showgrid\":false,\"zeroline\":false,\"visible\":false},\"title\":{\"text\":\"<b>Sankey Plot for EqtyTrnsprncyData_Lqdty<b><br>Instruments whose indicator matches : <b>98.4%<b> (18,530)<br>Instruments whose indicator changes : <b>1.6%<b> (292)<br>Total number of instruments: 18,822\",\"y\":0.98},\"width\":700,\"height\":700,\"plot_bgcolor\":\"white\",\"annotations\":[{\"align\":\"center\",\"font\":{\"size\":16},\"showarrow\":false,\"text\":\"<b>Year 2022<b>\",\"x\":0,\"xref\":\"x\",\"y\":1.05,\"yref\":\"paper\"},{\"align\":\"center\",\"font\":{\"size\":16},\"showarrow\":false,\"text\":\"<b>Year 2023<b>\",\"x\":1,\"xref\":\"x\",\"y\":1.05,\"yref\":\"paper\"}]},                        {\"responsive\": true}                    )                };                            </script>        </div>\n",
       "</body>\n",
       "</html>"
      ]
     },
     "metadata": {},
     "output_type": "display_data"
    }
   ],
   "source": [
    "keys = [\"RlvntMkt_Id\", \"Sttstcs_LrgInScale\", \"EqtyTrnsprncyData_Lqdty\"]\n",
    "# plot_keys = list(sankey_plots.keys())\n",
    "for key in keys:\n",
    "    print(f\"Display Sankey plot for: {key}\")\n",
    "    display(sankey_plots[key])"
   ]
  }
 ],
 "metadata": {
  "application/vnd.databricks.v1+notebook": {
   "dashboards": [],
   "environmentMetadata": {
    "base_environment": "",
    "client": "1"
   },
   "language": "python",
   "notebookMetadata": {
    "pythonIndentUnit": 4
   },
   "notebookName": "esma_data_gdi",
   "widgets": {}
  },
  "language_info": {
   "name": "python"
  }
 },
 "nbformat": 4,
 "nbformat_minor": 0
}
